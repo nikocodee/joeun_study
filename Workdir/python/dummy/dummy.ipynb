{
 "cells": [
  {
   "cell_type": "code",
   "execution_count": 1,
   "id": "bb44a75e-3bba-4765-8d53-b3364fbf9abc",
   "metadata": {},
   "outputs": [
    {
     "name": "stdout",
     "output_type": "stream",
     "text": [
      "Collecting Faker\n",
      "  Using cached Faker-36.1.1-py3-none-any.whl.metadata (15 kB)\n",
      "Collecting tzdata (from Faker)\n",
      "  Downloading tzdata-2025.1-py2.py3-none-any.whl.metadata (1.4 kB)\n",
      "Using cached Faker-36.1.1-py3-none-any.whl (1.9 MB)\n",
      "Downloading tzdata-2025.1-py2.py3-none-any.whl (346 kB)\n",
      "Installing collected packages: tzdata, Faker\n",
      "Successfully installed Faker-36.1.1 tzdata-2025.1\n"
     ]
    }
   ],
   "source": [
    "!pip install Faker"
   ]
  },
  {
   "cell_type": "code",
   "execution_count": 19,
   "id": "c602185f-5f98-4256-a30c-63482995e71d",
   "metadata": {},
   "outputs": [
    {
     "name": "stdout",
     "output_type": "stream",
     "text": [
      "김준영\n"
     ]
    }
   ],
   "source": [
    "from faker import Faker\n",
    "Faker.seed(12345) # 초기 seed 설정\n",
    "fake = Faker('ko_KR') # locale 정보 설정\n",
    "\n",
    "name = fake.name()\n",
    "print(name)"
   ]
  },
  {
   "cell_type": "code",
   "execution_count": 20,
   "id": "79207ff7-ce5e-47f6-8a90-dd214b0e442b",
   "metadata": {},
   "outputs": [
    {
     "name": "stdout",
     "output_type": "stream",
     "text": [
      "jimin34@live.com\n"
     ]
    }
   ],
   "source": [
    "email = fake.free_email()\n",
    "print(email)"
   ]
  },
  {
   "cell_type": "code",
   "execution_count": 21,
   "id": "73defebb-4bc6-44a6-9321-3a692438d0be",
   "metadata": {},
   "outputs": [
    {
     "name": "stdout",
     "output_type": "stream",
     "text": [
      "['junseoyang@naver.com', 'subingim@daum.net', 'kcoe@hotmail.com', 'yeeungim@nate.com', 'gwangsu50@live.com', 'gimyeongmi@hotmail.com', 'ujinyun@daum.net', 'ogsungim@nate.com', 'gimjiyeon@hanmail.net', 'yeonghoi@hotmail.com', 'gujaeho@gmail.com', 'hyeonsugi@nate.com', 'junyeonggim@gmail.com', 'zgim@hotmail.com', 'hwangjuweon@daum.net', 'agang@dreamwiz.com', 'eungyeong68@hanmail.net', 'eungyeong18@hotmail.com', 'bagjiu@nate.com', 'siugim@hotmail.com', 'baggeonu@gmail.com', 'mson@daum.net', 'migyeong61@dreamwiz.com', 'lgim@gmail.com', 'jeongsig62@hotmail.com', 'hyeonsugbag@live.com', 'sanghun73@hanmail.net', 'mijeonggim@naver.com', 'minseohan@gmail.com', 'eunseo05@daum.net', 'gimjiyeong@gmail.com', 'ogja56@naver.com', 'tgang@dreamwiz.com', 'cgim@gmail.com', 'jeonghoheo@daum.net', 'gimjiyeon@live.com', 'wgim@hanmail.net', 'yeji61@naver.com', 'eunseo06@hanmail.net', 'minjunryu@hanmail.net', 'jihun02@daum.net', 'anjeongho@nate.com', 'gimgyeonghyi@hanmail.net', 'seoyeon52@naver.com', 'gosangceol@hanmail.net', 'ana@hotmail.com', 'seohyeon27@live.com', 'qgim@gmail.com', 'ii@gmail.com', 'gyeongsug05@nate.com', 'isong@live.com', 'coegyeonghyi@daum.net', 'gangdohyeon@gmail.com', 'jeongja81@dreamwiz.com', 'bbag@hanmail.net', 'jeongsigan@live.com', 'hyejinim@dreamwiz.com', 'jiweoncoe@hanmail.net', 'yeongsugbag@gmail.com', 'minjaebae@daum.net', 'gimseoyeon@hanmail.net', 'yeongsig57@live.com', 'sunjamun@daum.net', 'bagminseo@nate.com', 'junhoim@live.com', 'pgim@dreamwiz.com', 'jihun12@hanmail.net', 'oi@hotmail.com', 'bagyeji@gmail.com', 'sbae@hanmail.net', 'doyun65@hanmail.net', 'yeongsig34@gmail.com', 'gimseoyun@hotmail.com', 'yeonggil99@naver.com', 'doyun66@live.com', 'rcoe@naver.com', 'yunhyeonjeong@dreamwiz.com', 'jiweongim@daum.net', 'ijeongsu@live.com', 'ybag@daum.net', 'ngim@gmail.com', 'agim@nate.com', 'jeongjai@hotmail.com', 'ugim@nate.com', 'ijunhyeog@hotmail.com', 'jia94@hotmail.com', 'abag@dreamwiz.com', 'yeongsig73@nate.com', 'mi@hanmail.net', 'gi@hotmail.com', 'mijeonggweon@daum.net', 'egim@hanmail.net', 'geonui@hanmail.net', 'hayun94@nate.com', 'junhyeog91@dreamwiz.com', 'pyun@naver.com', 'gimjaehyeon@gmail.com', 'seongsugim@naver.com', 'jiminyu@gmail.com', 'simjihyeon@hanmail.net', 'songseongmin@gmail.com', 'junseocoe@gmail.com', 'haeunjang@hotmail.com', 'wryu@daum.net', 'gwangsusong@nate.com', 'caeweoni@hanmail.net', 'seunghyeon56@daum.net', 'seonghyeon78@hotmail.com', 'junyeongbag@naver.com', 'eungyeonggim@naver.com', 'jaehyeon08@nate.com', 'ycoe@daum.net', 'yunseongho@hotmail.com', 'jangseoyun@daum.net', 'wgim@gmail.com', 'zyun@naver.com', 'seongmin83@hotmail.com', 'iyejun@daum.net', 'yeongmi89@naver.com', 'junseoi@naver.com', 'fbag@daum.net', 'lbag@gmail.com', 'seonghun33@daum.net', 'seonghungim@gmail.com', 'gimjihyeon@gmail.com', 'sanghun84@gmail.com', 'ojo@nate.com', 'gimsunja@daum.net', 'jinho11@live.com', 'hyeonuu@hotmail.com', 'ago@hotmail.com', 'wim@hanmail.net', 'dha@nate.com', 'seonggyeongja@nate.com', 'jominjun@hanmail.net', 'gimjunho@nate.com', 'hgim@hotmail.com', 'ggim@hanmail.net', 'myun@dreamwiz.com', 'kbag@live.com', 'ai@gmail.com', 'areumo@daum.net', 'jinho40@dreamwiz.com', 'songmisug@live.com', 'jieungim@hotmail.com', 'kno@dreamwiz.com', 'najimin@nate.com', 'jihu87@naver.com', 'jihun23@dreamwiz.com', 'kseo@daum.net', 'yeonghwan57@nate.com', 'yeongja85@hotmail.com', 'minjun76@dreamwiz.com', 'kseo@hanmail.net', 'hyeonjun66@daum.net', 'oyejin@dreamwiz.com', 'juyeongmi@gmail.com', 'junseogo@gmail.com', 'eunjii@live.com', 'siumun@nate.com', 'jihun33@dreamwiz.com', 'gimjiu@hanmail.net', 'wseo@gmail.com', 'dgim@nate.com', 'jeongsugim@hotmail.com', 'hwangsanghun@live.com', 'eungyeong85@hanmail.net', 'mgim@dreamwiz.com', 'sanghunyun@nate.com', 'songseojun@naver.com', 'jeonghohwang@dreamwiz.com', 'igyeonghyi@gmail.com', 'jia88@gmail.com', 'sumin30@daum.net', 'yunseoji@naver.com', 'cbag@daum.net', 'anyeongsu@live.com', 'misug09@daum.net', 'sujini@hotmail.com', 'tcoe@hanmail.net', 'ai@nate.com', 'jongsugim@live.com', 'tseo@hanmail.net', 'pgim@live.com', 'minseoyun@gmail.com', 'yeji70@nate.com', 'ggim@naver.com', 'jia38@gmail.com', 'yunjunseo@hotmail.com', 'areumi@daum.net', 'fan@nate.com', 'teom@daum.net', 'ggim@hotmail.com', 'baeseonghyeon@gmail.com', 'yeongceolryu@hanmail.net', 'yunjunho@nate.com', 'ro@daum.net', 'ihyeonjun@naver.com', 'gimjunseo@gmail.com', 'jongsu07@live.com', 'hgim@daum.net', 'sonyujin@daum.net', 'ogsun19@nate.com', 'vgim@gmail.com', 'gwangsu36@daum.net', 'minji54@gmail.com', 'dsong@live.com', 'hyejin29@daum.net', 'seomiyeong@live.com', 'imyeongja@live.com', 'minjae11@daum.net', 'yujingim@hanmail.net', 'sunjagweon@nate.com', 'gimeungyeong@nate.com', 'bagyeongho@dreamwiz.com', 'jihungim@live.com', 'dcoe@hanmail.net', 'zmun@naver.com', 'oi@daum.net', 'hongjeonghyi@naver.com', 'misug28@live.com', 'qyun@daum.net', 'ygim@live.com', 'bagmijeong@live.com', 'seonghyeon92@hanmail.net', 'jimini@daum.net', 'seungmin69@hotmail.com', 'eunyeong79@nate.com', 'bagdoyun@dreamwiz.com', 'gimjaeho@hanmail.net', 'yeongsu28@dreamwiz.com', 'yujinsim@daum.net', 'baegeunji@hotmail.com', 'guogsun@hotmail.com', 'ogja95@daum.net', 'gimeunji@live.com', 'jinhomun@live.com', 'gyeongja21@live.com', 'zbae@live.com', 'gimyeongceol@naver.com', 'geonu66@live.com', 'donghyeonsong@gmail.com', 'minseo77@hanmail.net', 'migyeongi@live.com', 'sangceol61@nate.com', 'bagjihyeon@hotmail.com', 'egu@naver.com', 'hyeonjeonggim@daum.net', 'yeongho36@gmail.com', 'jeongho23@naver.com', 'ggim@nate.com', 'yejinbag@live.com', 'gimminseo@hotmail.com', 'eunseo44@naver.com', 'baghaeun@hanmail.net', 'seonghogim@hotmail.com', 'jinho68@gmail.com', 'gimjieun@naver.com', 'vbag@hotmail.com', 'kgim@daum.net', 'eunyeonggim@daum.net', 'jeongho50@hanmail.net', 'gimmisug@live.com', 'yha@hotmail.com', 'baegseoyeon@gmail.com', 'cyun@nate.com', 'caeweon92@gmail.com', 'smun@live.com', 'bagogsun@naver.com', 'yeongmigim@live.com', 'minjunju@nate.com', 'gyeongsug97@naver.com', 'seongjin32@naver.com', 'minseog34@live.com', 'myeongsuggim@gmail.com', 'gimjinu@gmail.com', 'co@hotmail.com', 'seoseoyeon@live.com', 'jihye04@gmail.com', 'eunjijang@naver.com', 'sujingim@live.com', 'minjii@gmail.com', 'hyeonsugi@hotmail.com', 'yeongmigang@hanmail.net', 'iyeongil@hotmail.com', 'minjaeryu@naver.com', 'seungmin93@dreamwiz.com', 'xi@dreamwiz.com', 'eomjeongsu@naver.com', 'yeonghwanan@dreamwiz.com', 'hyeonugim@hotmail.com', 'jeonghyiha@live.com', 'iyujin@hotmail.com', 'jia64@dreamwiz.com', 'iyeongmi@live.com', 'hyeonjungo@dreamwiz.com', 'coeyejin@daum.net', 'seonghun15@daum.net', 'acoe@daum.net', 'eunjeonggweon@dreamwiz.com', 'seongsui@gmail.com', 'ijeongja@hanmail.net', 'li@hanmail.net', 'bagseohyeon@hotmail.com', 'ti@hotmail.com', 'jungsui@naver.com', 'gimyeongceol@gmail.com', 'gimjeongsig@gmail.com', 'gimmyeongja@live.com', 'xyang@daum.net', 'yeonghwanbag@dreamwiz.com', 'jongsucoe@live.com', 'iyunseo@naver.com', 'bagyeongjin@hanmail.net', 'minjae41@naver.com', 'jeongsigi@daum.net', 'yeongho75@gmail.com', 'abag@naver.com', 'iseong@gmail.com', 'bagjeongung@hanmail.net', 'xgim@naver.com', 'jiabag@naver.com', 'baghyeonu@gmail.com', 'jihun19@daum.net', 'ogsun82@daum.net', 'jeonghyi18@dreamwiz.com', 'eyun@gmail.com', 'miyeongyu@nate.com', 'gbag@dreamwiz.com', 'wgim@live.com', 'oogja@live.com', 'minsugim@hanmail.net', 'gu@nate.com', 'ugim@gmail.com', 'ugo@naver.com', 'iseojun@nate.com', 'seohyeon42@hotmail.com', 'coejia@live.com', 'igim@nate.com', 'igim@daum.net', 'eunseo87@gmail.com', 'yeongsu40@daum.net', 'misugbag@dreamwiz.com', 'ryuseungmin@dreamwiz.com', 'yeonghwan71@naver.com', 'munjaehyeon@live.com', 'yeweon75@hanmail.net', 'myeongsug59@hanmail.net', 'hyeonju03@naver.com', 'jiyeong48@nate.com', 'yi@live.com', 'hayun90@gmail.com', 'cryu@naver.com', 'yeongiljeong@dreamwiz.com', 'gojunho@hanmail.net', 'minseobag@hotmail.com', 'ci@hanmail.net', 'gimhyeonu@nate.com', 'jihyeon60@nate.com', 'xi@hotmail.com', 'eungyeong34@live.com', 'seongjin33@dreamwiz.com', 'hyeonjeong04@daum.net', 'zgim@daum.net', 'sanghyeon07@daum.net', 'fhan@gmail.com', 'seohyeon76@hanmail.net', 'areumjin@hotmail.com', 'gyeongja43@gmail.com', 'janggyeongsug@gmail.com', 'eunjujo@daum.net', 'gimjaeho@daum.net', 'yejin41@naver.com', 'ogwangsu@daum.net', 'junho60@daum.net', 'seoyeongja@naver.com', 'yeongceol23@naver.com', 'rhwang@hanmail.net', 'ijaeho@daum.net', 'wgim@nate.com', 'tgim@dreamwiz.com', 'jeongsu95@nate.com', 'yeonghyi02@dreamwiz.com', 'mijeongha@daum.net', 'kgim@live.com', 'iyunseo@daum.net', 'seoyuni@daum.net', 'myeongsug30@live.com', 'yangminjae@dreamwiz.com', 'myeongja25@live.com', 'sujin77@dreamwiz.com', 'gimseongmin@daum.net', 'hongeunseo@naver.com', 'gwangsuyang@daum.net', 'yeongjinhong@dreamwiz.com', 'coejihye@daum.net', 'obag@naver.com', 'lseo@hotmail.com', 'subinryu@hotmail.com', 'fca@hotmail.com', 'jiyeoni@daum.net', 'eunji05@dreamwiz.com', 'doyun41@naver.com', 'seonghun75@hanmail.net', 'pbag@live.com', 'jgim@naver.com', 'jeongsun30@naver.com', 'coegyeonghyi@naver.com', 'ngim@hanmail.net', 'cunja36@hotmail.com', 'seongjingim@gmail.com', 'rgim@gmail.com', 'angyeongja@dreamwiz.com', 'gimogja@hotmail.com', 'dgim@naver.com', 'sugja42@naver.com', 'lryu@daum.net', 'hwangjieun@dreamwiz.com', 'ohwang@dreamwiz.com', 'ui@live.com', 'umyeongja@dreamwiz.com', 'gimjuweon@dreamwiz.com', 'songjinu@hanmail.net', 'boramyun@daum.net', 'junyeonggim@dreamwiz.com', 'bjo@nate.com', 'yeongmii@dreamwiz.com', 'boraman@hanmail.net', 'xan@hanmail.net', 'hanyeonggil@daum.net', 'munjeongho@dreamwiz.com', 'seongjin27@hotmail.com', 'baghyeonji@hotmail.com', 'jaeho86@daum.net', 'minjibaeg@nate.com', 'gimmigyeong@live.com', 'ngim@nate.com', 'lbag@dreamwiz.com', 'sanghyeon37@nate.com', 'gimyeonghyi@daum.net', 'gimjiyeong@dreamwiz.com', 'hajeongsug@dreamwiz.com', 'di@hotmail.com', 'rgim@hanmail.net', 'bagjunseo@dreamwiz.com', 'ibag@hanmail.net', 'sugja96@dreamwiz.com', 'jiweon89@live.com', 'gimjeongsig@naver.com', 'yeongceolbag@naver.com', 'jeonghyi40@hotmail.com', 'igyeongja@naver.com', 'yunjeongsun@gmail.com', 'gyeongsu30@dreamwiz.com', 'gueunji@daum.net', 'yeongjinmun@naver.com', 'cunjau@daum.net', 'hyeonuhan@hotmail.com', 'yangyejun@daum.net', 'seojun36@naver.com', 'vi@daum.net', 'gweoncaeweon@dreamwiz.com', 'jaehogim@live.com', 'yeongsun68@hanmail.net', 'gwagjeonghun@dreamwiz.com', 'bagseonghun@naver.com', 'jungsuson@hotmail.com', 'ieungyeong@live.com', 'gimyejun@gmail.com', 'vi@dreamwiz.com', 'pseo@daum.net', 'seongjin81@naver.com', 'jeongung91@live.com', 'hyejingim@hanmail.net', 'seoseonghun@live.com', 'ujinbag@daum.net', 'yeongceolgim@nate.com', 'ogsuncoe@daum.net', 'sangho40@dreamwiz.com', 'jihu18@dreamwiz.com', 'wgim@daum.net', 'yeonghyi62@daum.net', 'ogsun86@nate.com', 'hyeonjeonggim@hanmail.net', 'jiweonjang@hotmail.com', 'minsu41@gmail.com', 'jangyeji@gmail.com', 'kgim@dreamwiz.com', 'juweonna@nate.com', 'dseo@gmail.com', 'lgim@live.com', 'eunju61@live.com', 'iujin@naver.com', 'cunjaseo@gmail.com', 'songminjae@naver.com', 'jungsu13@dreamwiz.com', 'gimseongho@daum.net', 'fgim@nate.com', 'cgim@live.com', 'seonghungim@live.com', 'yunsunog@nate.com', 'seoyeon84@gmail.com', 'seonyeong24@daum.net', 'jeongja48@hanmail.net', 'yeongsug68@nate.com', 'jeongsugbag@daum.net', 'hyeonjeonggim@hotmail.com', 'seunghyeon18@gmail.com', 'ogsuncoe@live.com', 'qcoe@live.com', 'minsucoe@hanmail.net', 'gimjinu@live.com', 'jeongsig54@daum.net', 'xi@naver.com', 'gojunhyeog@hanmail.net', 'ana@live.com', 'dohyeoni@naver.com', 'hwangjeongnam@nate.com', 'yeonghyi83@hotmail.com', 'jiagim@gmail.com', 'hyejin91@gmail.com', 'hanyeweon@hotmail.com', 'sujin54@live.com', 'subini@gmail.com', 'kcoe@naver.com', 'gimjeongsu@dreamwiz.com', 'gimyeongsun@nate.com', 'byun@gmail.com', 'mijeongi@nate.com', 'eunju08@hotmail.com', 'lbag@nate.com', 'jeonghun26@hotmail.com', 'tgim@daum.net', 'jinui@hanmail.net', 'gimjimin@gmail.com', 'sujincoe@hanmail.net', 'minjun85@live.com', 'ijihun@live.com', 'yeongsig25@live.com', 'minji40@dreamwiz.com', 'hyeonjugweon@hanmail.net', 'thwang@hotmail.com', 'iu@hotmail.com', 'seonghogim@dreamwiz.com', 'sugja75@hotmail.com', 'gyeongjagim@naver.com', 'iyejin@nate.com', 'eunju14@daum.net', 'ogsunbag@daum.net', 'eunjugim@gmail.com', 'hyejin05@hanmail.net', 'yeonggilgim@dreamwiz.com', 'egim@nate.com', 'byeongceol32@naver.com', 'ti@gmail.com', 'boram39@naver.com', 'juweon18@live.com', 'yeongmii@hanmail.net', 'bagminseog@gmail.com', 'cno@naver.com', 'yejinno@daum.net', 'seunghyeonbag@dreamwiz.com', 'dohyeonsim@naver.com', 'pjeong@nate.com', 'seoyeoni@hanmail.net', 'gimyejun@naver.com', 'pi@naver.com', 'ina@live.com', 'yeonghoryu@naver.com', 'yeongjinan@hotmail.com', 'hyejin40@naver.com', 'junhyeogi@daum.net', 'gimjihun@live.com', 'seongjin00@hotmail.com', 'jeongsun74@nate.com', 'yujinyun@dreamwiz.com', 'coegyeongsu@daum.net', 'gimcaeweon@hotmail.com', 'ihyeonji@daum.net', 'ksong@nate.com', 'gimsugja@nate.com', 'jeongsug48@nate.com', 'eungyeong73@hotmail.com', 'gyeongsugi@dreamwiz.com', 'jungsusong@hotmail.com', 'subin88@gmail.com', 'hyeonjunjin@nate.com', 'eunjeonggu@nate.com', 'yeongsuggim@naver.com', 'siujang@naver.com', 'coeyeweon@naver.com', 'gimseonyeong@dreamwiz.com', 'jieun62@naver.com', 'ogim@dreamwiz.com', 'jbag@daum.net', 'ijihu@dreamwiz.com', 'seohyeon61@hotmail.com', 'jeongja70@gmail.com', 'jimino@daum.net', 'xi@gmail.com', 'mryu@daum.net', 'hyeonji73@daum.net', 'gimmisug@daum.net', 'hyeonsugbag@hotmail.com', 'jeonghyejin@dreamwiz.com', 'cgang@dreamwiz.com', 'sanghyeon86@gmail.com', 'baggyeonghyi@hanmail.net', 'seoyeon25@live.com', 'vgim@daum.net', 'jeongsu29@hanmail.net', 'qhan@hanmail.net', 'gyeonghyi51@dreamwiz.com', 'gimbyeongceol@naver.com', 'yejingim@gmail.com', 'gimyeongsun@live.com', 'boram74@nate.com', 'sumin12@hanmail.net', 'hyejino@gmail.com', 'jieun96@hotmail.com', 'yeonghyisim@naver.com', 'sugjajo@nate.com', 'coejihye@gmail.com', 'yeonggilyu@daum.net', 'mungyeongja@hanmail.net', 'jeongnamjeon@hanmail.net', 'si@hanmail.net', 'geonu75@hotmail.com', 'jihun84@hotmail.com', 'jeonghyi54@live.com', 'seongjincoe@live.com', 'ijongsu@hotmail.com', 'eunjeongi@daum.net', 'ihyeonu@live.com', 'rgim@live.com', 'igim@naver.com', 'gimjeongsun@nate.com', 'agweon@hotmail.com', 'bgim@hotmail.com', 'gyeongjai@live.com', 'iseungmin@nate.com', 'heojeongsun@hotmail.com', 'seongsu14@nate.com', 'li@naver.com', 'cunja86@live.com', 'gwangsugim@hanmail.net', 'dryu@gmail.com', 'ijaehyeon@live.com', 'hyeonji04@live.com', 'subinbag@live.com', 'baemigyeong@hotmail.com', 'kbag@naver.com', 'gimjeongja@gmail.com', 'acoe@live.com', 'esin@nate.com', 'zi@hanmail.net', 'ahwang@hotmail.com', 'juweoni@live.com', 'ecoe@daum.net', 'gyeonghyi31@hanmail.net', 'imyeongsug@daum.net', 'sujinmun@naver.com', 'seoyeeun@naver.com', 'yeongmi56@gmail.com', 'minseog66@gmail.com', 'yeongmi57@live.com', 'ki@naver.com', 'seungmin98@hanmail.net', 'seungmin66@naver.com', 'yeonghyi26@nate.com', 'di@dreamwiz.com', 'seoyeon51@hotmail.com', 'seoyeonyang@dreamwiz.com', 'gimjeonghun@naver.com', 'minseogbae@hanmail.net', 'hayuni@naver.com', 'ahan@daum.net', 'iseonyeong@hanmail.net', 'ygim@naver.com', 'jiu88@hanmail.net', 'yejun26@nate.com', 'hayun23@daum.net', 'minseoyun@live.com', 'sonjeongja@naver.com', 'bbaeg@nate.com', 'jiweon74@dreamwiz.com', 'bo@daum.net', 'ihaeun@live.com', 'yungyeongja@dreamwiz.com', 'junyeong73@live.com', 'jaehyeon99@hotmail.com', 'bagjeongsig@nate.com', 'yejigim@nate.com', 'seongjini@hotmail.com', 'fbag@nate.com', 'coejiweon@live.com', 'bagsangho@gmail.com', 'gyeongsu26@gmail.com', 'hwanghyeonu@daum.net', 'migyeongyang@nate.com', 'seongjin43@live.com', 'cunja80@live.com', 'yeonghyi57@hanmail.net', 'bi@daum.net', 'jeongsugbag@hotmail.com', 'gimgwangsu@live.com', 'coejihyeon@daum.net', 'egim@gmail.com', 'ujini@live.com', 'jeongnam52@naver.com', 'seunghyeon69@daum.net', 'bagareum@hanmail.net', 'mijeonggim@live.com', 'bagmisug@hanmail.net', 'hyeonji87@naver.com', 'junhoseong@naver.com', 'haeungim@dreamwiz.com', 'yeongceolu@hotmail.com', 'jeongnam59@naver.com', 'gwangsucoe@naver.com', 'jeongsu84@daum.net', 'gimyeongil@gmail.com', 'ayun@daum.net', 'jeongung80@naver.com', 'juujin@hanmail.net', 'seonghun39@nate.com', 'minseonam@nate.com', 'fgim@naver.com', 'xgweon@hanmail.net', 'jiyeon29@nate.com', 'ijunyeong@hanmail.net', 'ku@gmail.com', 'donghyeon22@nate.com', 'qbag@live.com', 'uhan@naver.com', 'seonghyeongang@gmail.com', 'seongmin24@live.com', 'hyeonui@live.com', 'cayeongho@hotmail.com', 'gangeunji@hotmail.com', 'jinhojeon@nate.com', 'seongmin41@naver.com', 'jungsu28@daum.net', 'osumin@nate.com', 'ogim@hotmail.com', 'myeongja38@live.com', 'jeongnam64@hanmail.net', 'bagseonghun@nate.com', 'yeweon09@live.com', 'seonyeong49@hanmail.net', 'jiayun@hanmail.net', 'minsu66@gmail.com', 'yeongsiggim@daum.net', 'yjo@hotmail.com', 'coeseonghyeon@hanmail.net', 'gimyeeun@naver.com', 'ryujeongung@hotmail.com', 'jaehosim@naver.com', 'jgim@daum.net', 'iminsu@live.com', 'tgim@live.com', 'ohong@nate.com', 'gyeongsugi@nate.com', 'minsu30@live.com', 'seonyeong29@nate.com', 'yeongsug65@nate.com', 'xbag@daum.net', 'bagminsu@hotmail.com', 'seongmingim@nate.com', 'gyeongja82@hotmail.com', 'subin43@dreamwiz.com', 'eunjujo@naver.com', 'minjaei@hanmail.net', 'ghong@gmail.com', 'myeongjaseo@live.com', 'eungyeongi@hotmail.com', 'sgim@live.com', 'vgim@hanmail.net', 'jeonghyii@dreamwiz.com', 'jiyeon01@nate.com', 'yeongmii@live.com', 'jiyeong80@dreamwiz.com', 'yeongjin01@naver.com', 'qryu@gmail.com', 'yeonggili@dreamwiz.com', 'osin@live.com', 'jojihun@hotmail.com', 'yunjeongsu@naver.com', 'seodoyun@live.com', 'jeongsun94@live.com', 'jeongsungim@gmail.com', 'gi@naver.com', 'jangsunog@nate.com', 'hyeonjeong65@hotmail.com', 'ijeongung@dreamwiz.com', 'ni@naver.com', 'gyeongsugjo@live.com', 'eunseo53@naver.com', 'bagjeonghyi@hanmail.net', 'jiu48@naver.com', 'donghyeon86@live.com', 'siu58@live.com', 'gimsujin@daum.net', 'gimsujin@live.com', 'baejeongsig@nate.com', 'minjun55@hanmail.net', 'gyun@naver.com', 'yeongil41@nate.com', 'jiyeong90@gmail.com', 'isujin@live.com', 'bagyeongsug@gmail.com', 'seohyeon02@hotmail.com', 'pgweon@nate.com', 'jaehobag@daum.net', 'jongsu14@gmail.com', 'useo@gmail.com', 'eungyeong78@naver.com', 'yi@nate.com', 'junseo42@gmail.com', 'gseo@hotmail.com', 'jia48@gmail.com', 'dohyeon33@nate.com', 'hayuni@gmail.com', 'eunseo09@naver.com', 'lhan@nate.com', 'aryu@dreamwiz.com', 'yeongjago@hotmail.com', 'wgim@hotmail.com', 'gimdohyeon@hotmail.com', 'wo@gmail.com', 'hyeonu34@daum.net', 'subinan@naver.com', 'gimjunyeong@daum.net', 'sanghyeoni@gmail.com', 'jihunhwang@daum.net', 'zhong@live.com', 'dohyeongweon@daum.net', 'yunseoyun@hanmail.net', 'yujin77@naver.com', 'junyeonggim@naver.com', 'hyeonjeong83@daum.net', 'bagjunyeong@gmail.com', 'iyun@naver.com', 'myeongjaryu@hotmail.com', 'sunja86@nate.com', 'iyeongsun@daum.net', 'jihyeonjin@hotmail.com', 'sangceol79@nate.com', 'ygim@hotmail.com', 'migyeonggim@nate.com', 'vji@dreamwiz.com', 'bhan@naver.com', 'bagseohyeon@live.com', 'jia31@nate.com', 'agang@hotmail.com', 'yeweon73@daum.net', 'seoyungo@nate.com', 'bagjimin@hanmail.net', 'sunogi@live.com', 'iseonghun@daum.net', 'jeongsigi@naver.com', 'ogsun53@hotmail.com', 'seongho66@daum.net', 'bgim@naver.com', 'khwang@hotmail.com', 'fgim@dreamwiz.com', 'abag@nate.com', 'jungsu38@gmail.com', 'jieungim@dreamwiz.com', 'bagjeongho@daum.net', 'seojungim@gmail.com', 'gimyeonghyi@nate.com', 'oyeongmi@naver.com', 'ngim@dreamwiz.com', 'jeonghogim@hanmail.net', 'jihugim@nate.com', 'nyun@dreamwiz.com', 'cunja58@nate.com', 'baegcunja@dreamwiz.com', 'gimminsu@naver.com', 'egim@daum.net', 'mijeong45@dreamwiz.com', 'pi@hotmail.com', 'sunoggim@naver.com', 'gyeonghyi74@dreamwiz.com', 'ijeongnam@daum.net', 'eungyeonggim@daum.net', 'whwang@dreamwiz.com', 'areum53@gmail.com', 'egim@live.com', 'pji@nate.com', 'geonusong@hotmail.com', 'jeongsiggim@gmail.com', 'yunbyeongceol@hotmail.com', 'hanmiyeong@hanmail.net', 'hyeonsug73@nate.com', 'iyeeun@daum.net', 'eunseobag@hotmail.com', 'ahwang@gmail.com', 'jieun47@gmail.com', 'jeonghoson@daum.net', 'junhyeog74@hotmail.com', 'coeeunju@nate.com', 'seoyun69@naver.com', 'miyeongryu@gmail.com', 'wjang@hanmail.net', 'junyeong70@gmail.com', 'ijihyeon@daum.net', 'bi@naver.com', 'agim@hanmail.net', 'yunseohyeon@dreamwiz.com', 'eunseo37@hanmail.net', 'eungyeong84@daum.net', 'jihu71@gmail.com', 'esin@gmail.com', 'gyeongsuggweon@naver.com', 'yunseo66@hotmail.com', 'gimeunjeong@hotmail.com', 'minjae27@hotmail.com', 'yejunbag@hotmail.com', 'seunghyeon06@daum.net', 'mijeonggim@hotmail.com', 'gimsangceol@gmail.com', 'jgim@hotmail.com', 'munjinu@dreamwiz.com', 'bagjeonghun@daum.net', 'gyeongsuggim@nate.com', 'jeongsug54@hotmail.com', 'migyeong57@live.com', 'minjunbag@live.com', 'minjigim@gmail.com', 'jaehyeon03@gmail.com', 'hayungim@gmail.com', 'vbag@daum.net', 'gi@live.com', 'yejingim@hanmail.net', 'minjun91@live.com', 'yeeunbag@daum.net', 'ryugyeongsu@hotmail.com', 'cbag@dreamwiz.com', 'gimeunyeong@hanmail.net', 'bagjia@naver.com', 'hyeonugim@naver.com', 'seunghyeon63@gmail.com', 'mgim@daum.net', 'gyeongjamun@nate.com', 'yejungim@gmail.com', 'jgim@live.com', 'gimmiyeong@hanmail.net', 'hanseoyeong@hotmail.com', 'nbag@dreamwiz.com', 'juweonha@hanmail.net', 'bagjaeho@nate.com', 'bagjieun@nate.com', 'yeongceolcoe@hotmail.com', 'hyeonjun68@dreamwiz.com', 'minjaejang@hanmail.net', 'xbae@hotmail.com', 'seongmin86@live.com', 'mgim@live.com', 'jihu43@naver.com', 'hyeonjuni@live.com', 'ijihye@dreamwiz.com', 'jeongyujin@gmail.com', 'seungmin02@naver.com', 'jihu54@daum.net', 'gimminji@hotmail.com', 'ogja28@live.com', 'jeongsigbag@naver.com', 'ban@naver.com', 'gyeongsu73@gmail.com', 'jeongho17@hanmail.net', 'gimseunghyeon@hanmail.net', 'junyeonggo@live.com', 'vi@naver.com', 'seongmin04@nate.com', 'eungyeong70@live.com', 'bagyeongja@hanmail.net', 'jaehogim@nate.com', 'gimjeongsun@hotmail.com', 'iseo@daum.net', 'hu@gmail.com', 'yeongsiggim@naver.com', 'ogjagim@dreamwiz.com', 'byeongceolhwang@live.com', 'gimcunja@hanmail.net', 'ygim@daum.net', 'gyeonghyigo@naver.com', 'rcoe@hotmail.com', 'gimjihun@hanmail.net', 'gimjunseo@dreamwiz.com', 'junseogim@live.com', 'minseog52@naver.com', 'gimeunjeong@hanmail.net', 'minsumin@nate.com', 'yeongjinnam@live.com', 'zgang@live.com', 'jeongsun96@dreamwiz.com', 'eomseohyeon@hotmail.com', 'ujeong@daum.net']\n"
     ]
    }
   ],
   "source": [
    "repeat_count = 1000 # 1000 회 반복하며 더미 데이터 생성\n",
    "email = [fake.unique.free_email() for i in range(repeat_count)] # unique 추가시 고유값 생성\n",
    "print(email)"
   ]
  },
  {
   "cell_type": "code",
   "execution_count": 22,
   "id": "5be7580b-2c16-43c8-8d8a-2d002d992621",
   "metadata": {},
   "outputs": [
    {
     "name": "stdout",
     "output_type": "stream",
     "text": [
      "Collecting pandas\n",
      "  Downloading pandas-2.2.3-cp39-cp39-win_amd64.whl.metadata (19 kB)\n",
      "Collecting numpy>=1.22.4 (from pandas)\n",
      "  Downloading numpy-2.0.2-cp39-cp39-win_amd64.whl.metadata (59 kB)\n",
      "Collecting python-dateutil>=2.8.2 (from pandas)\n",
      "  Downloading python_dateutil-2.9.0.post0-py2.py3-none-any.whl.metadata (8.4 kB)\n",
      "Collecting pytz>=2020.1 (from pandas)\n",
      "  Downloading pytz-2025.1-py2.py3-none-any.whl.metadata (22 kB)\n",
      "Requirement already satisfied: tzdata>=2022.7 in c:\\users\\tjoeun\\.conda\\envs\\python39\\lib\\site-packages (from pandas) (2025.1)\n",
      "Collecting six>=1.5 (from python-dateutil>=2.8.2->pandas)\n",
      "  Downloading six-1.17.0-py2.py3-none-any.whl.metadata (1.7 kB)\n",
      "Downloading pandas-2.2.3-cp39-cp39-win_amd64.whl (11.6 MB)\n",
      "   ---------------------------------------- 0.0/11.6 MB ? eta -:--:--\n",
      "   ---------- ----------------------------- 3.1/11.6 MB 18.5 MB/s eta 0:00:01\n",
      "   ---------- ----------------------------- 3.1/11.6 MB 18.5 MB/s eta 0:00:01\n",
      "   ---------------------------------------  11.5/11.6 MB 18.5 MB/s eta 0:00:01\n",
      "   ---------------------------------------- 11.6/11.6 MB 16.2 MB/s eta 0:00:00\n",
      "Downloading numpy-2.0.2-cp39-cp39-win_amd64.whl (15.9 MB)\n",
      "   ---------------------------------------- 0.0/15.9 MB ? eta -:--:--\n",
      "   ------------------------------- -------- 12.6/15.9 MB 87.4 MB/s eta 0:00:01\n",
      "   ---------------------------------------  15.7/15.9 MB 36.7 MB/s eta 0:00:01\n",
      "   ---------------------------------------- 15.9/15.9 MB 32.3 MB/s eta 0:00:00\n",
      "Downloading python_dateutil-2.9.0.post0-py2.py3-none-any.whl (229 kB)\n",
      "Downloading pytz-2025.1-py2.py3-none-any.whl (507 kB)\n",
      "Downloading six-1.17.0-py2.py3-none-any.whl (11 kB)\n",
      "Installing collected packages: pytz, six, numpy, python-dateutil, pandas\n",
      "Successfully installed numpy-2.0.2 pandas-2.2.3 python-dateutil-2.9.0.post0 pytz-2025.1 six-1.17.0\n"
     ]
    }
   ],
   "source": [
    "!pip install pandas"
   ]
  },
  {
   "cell_type": "code",
   "execution_count": 23,
   "id": "5fd73de4-09e2-4c64-941b-cc1a2e3b2448",
   "metadata": {
    "scrolled": true
   },
   "outputs": [
    {
     "name": "stdout",
     "output_type": "stream",
     "text": [
      "     name          phone                              address  address_detail  \\\n",
      "0     홍정훈  010-0256-4300         서울특별시 송파구 영동대로 380-34 (은서장리)     미정차김마을 515호   \n",
      "1     박영길  010-0365-0827              전라남도 남양주시 학동27거리 479-42      경자임빌라 046호   \n",
      "2     안미숙  010-3856-7486                전라남도 음성군 석촌호수가 559-41   은주이타운 T동 833호   \n",
      "3     전시우  010-5812-3545        제주특별자치도 과천시 서초대9가 488 (진우김이리)     성현노아파트 721호   \n",
      "4     김영희  010-8406-5792  전라북도 성남시 중원구 양재천574길 373-41 (성호윤이동)           준영김마을   \n",
      "...   ...            ...                                  ...             ...   \n",
      "9995  최민석  010-9639-2249                 인천광역시 관악구 개포가 228-79  미영윤이타워 L동 341호   \n",
      "9996  양수빈  010-7148-7000        경상남도 용인시 압구정8길 341-71 (진호홍김동)  지우한김마을 X동 482호   \n",
      "9997  김정순  010-5462-6253              인천광역시 강북구 삼성515길 688-57           상현김마을   \n",
      "9998  최지후  010-6266-5478             경기도 수원시 영통구 백제고분거리 220-1   은지김연립 I동 571호   \n",
      "9999  김지은  010-3370-8336                 광주광역시 동구 삼성거리 189-37  하은최김마을 K동 837호   \n",
      "\n",
      "     user_status user_class                   email marketing_agree  \\\n",
      "0         active        VIP           pcoe@daum.net               1   \n",
      "1         active     Family      jeongho05@live.com               1   \n",
      "2         active     Family    eunyeonggim@live.com               0   \n",
      "3         active         일반        ryujihu@nate.com               1   \n",
      "4         active     Family  boramhwang@hotmail.com               0   \n",
      "...          ...        ...                     ...             ...   \n",
      "9995      active         일반    gimsangceol@daum.net               1   \n",
      "9996      active     Family      jiweon37@gmail.com               1   \n",
      "9997      active       VVIP        ogsun70@live.com               0   \n",
      "9998      active        VIP       yeeunseo@daum.net               0   \n",
      "9999      active       VVIP    bagjeongsun@live.com               0   \n",
      "\n",
      "     social_login      last_logged_at  created_at  \n",
      "0          google 2025-01-09 01:02:14  2023-12-04  \n",
      "1           naver 2024-03-31 11:08:53  2023-07-23  \n",
      "2        facebook 2024-11-12 10:50:40  2024-01-21  \n",
      "3           naver 2024-10-15 08:10:01  2023-05-04  \n",
      "4           kakao 2024-03-29 22:57:58  2023-12-28  \n",
      "...           ...                 ...         ...  \n",
      "9995       google 2024-06-27 04:25:11  2023-09-14  \n",
      "9996     facebook 2024-11-25 20:13:58  2023-02-20  \n",
      "9997        kakao 2024-03-03 15:12:20  2024-01-17  \n",
      "9998       google 2024-04-08 13:09:07  2023-09-07  \n",
      "9999     facebook 2024-07-22 06:06:58  2023-02-27  \n",
      "\n",
      "[10000 rows x 11 columns]\n"
     ]
    }
   ],
   "source": [
    "from faker import Faker\n",
    "import random\n",
    "import pandas as pd\n",
    "\n",
    "fake = Faker('ko_KR')\n",
    "Faker.seed(1)\n",
    "\n",
    "repeat_count = 10000\n",
    "\n",
    "name = [fake.name() for i in range(repeat_count)]\n",
    "phone = [('010-'+str(random.randint(1, 9999)).zfill(4)+'-'+str(random.randint(1, 9999)).zfill(4)) for i in range(repeat_count)]\n",
    "user_status\t= ['active' for i in range(repeat_count)]\n",
    "user_class = [random.choice(['일반','Family', 'VIP', 'VVIP']) for i in range(repeat_count)]\n",
    "email\t= [fake.unique.free_email() for i in range(repeat_count)]\n",
    "marketing_agree = [random.choice(['0','1']) for i in range(repeat_count)]\n",
    "social_login = [random.choice(['google','facebook','kakao','naver']) for i in range(repeat_count)]\n",
    "last_logged_at = [fake.date_time_between(start_date = '-1y', end_date ='now') for i in range(repeat_count)]\n",
    "created_at = [fake.date_between(start_date = '-2y', end_date ='-1y') for i in range(repeat_count)]\n",
    "address = [fake.address() for i in range(repeat_count)]\n",
    "address_detail = [fake.address_detail() for i in range(repeat_count)]\n",
    "\n",
    "df = pd.DataFrame()\n",
    "df['name'] = name\n",
    "df['phone'] = phone\n",
    "df['address'] = address\n",
    "df['address_detail'] = address_detail\n",
    "df['user_status'] = user_status\n",
    "df['user_class'] = user_class\n",
    "df['email'] = email\n",
    "df['marketing_agree'] = marketing_agree\n",
    "df['social_login'] = social_login\n",
    "df['last_logged_at'] = last_logged_at\n",
    "df['created_at'] = created_at\n",
    "\n",
    "print(df)\n",
    "\n",
    "df.to_csv(\"user.csv\", index=False)"
   ]
  },
  {
   "cell_type": "code",
   "execution_count": 24,
   "id": "dea3cac1-73fe-4361-aaa4-6bb358bc54dc",
   "metadata": {},
   "outputs": [],
   "source": [
    "df.to_csv('test.csv')"
   ]
  },
  {
   "cell_type": "code",
   "execution_count": 28,
   "id": "91803122-94fc-4165-93f3-d09a5502b418",
   "metadata": {},
   "outputs": [],
   "source": [
    "df.to_csv('user.csv', index=False)"
   ]
  },
  {
   "cell_type": "code",
   "execution_count": 29,
   "id": "3a569bd4-bd51-4640-af7f-bd1a06fe21be",
   "metadata": {},
   "outputs": [
    {
     "name": "stdout",
     "output_type": "stream",
     "text": [
      "Defaulting to user installation because normal site-packages is not writeable\n",
      "Requirement already satisfied: pandas in c:\\programdata\\anaconda3\\lib\\site-packages (2.2.2)\n",
      "Requirement already satisfied: sqlalchemy in c:\\programdata\\anaconda3\\lib\\site-packages (2.0.34)\n",
      "Collecting pymysql\n",
      "  Downloading PyMySQL-1.1.1-py3-none-any.whl.metadata (4.4 kB)\n",
      "Requirement already satisfied: numpy>=1.26.0 in c:\\programdata\\anaconda3\\lib\\site-packages (from pandas) (1.26.4)\n",
      "Requirement already satisfied: python-dateutil>=2.8.2 in c:\\programdata\\anaconda3\\lib\\site-packages (from pandas) (2.9.0.post0)\n",
      "Requirement already satisfied: pytz>=2020.1 in c:\\programdata\\anaconda3\\lib\\site-packages (from pandas) (2024.1)\n",
      "Requirement already satisfied: tzdata>=2022.7 in c:\\programdata\\anaconda3\\lib\\site-packages (from pandas) (2023.3)\n",
      "Requirement already satisfied: typing-extensions>=4.6.0 in c:\\programdata\\anaconda3\\lib\\site-packages (from sqlalchemy) (4.11.0)\n",
      "Requirement already satisfied: greenlet!=0.4.17 in c:\\programdata\\anaconda3\\lib\\site-packages (from sqlalchemy) (3.0.1)\n",
      "Requirement already satisfied: six>=1.5 in c:\\programdata\\anaconda3\\lib\\site-packages (from python-dateutil>=2.8.2->pandas) (1.16.0)\n",
      "Downloading PyMySQL-1.1.1-py3-none-any.whl (44 kB)\n",
      "Installing collected packages: pymysql\n",
      "Successfully installed pymysql-1.1.1\n",
      "Note: you may need to restart the kernel to use updated packages.\n"
     ]
    }
   ],
   "source": [
    "pip install pandas sqlalchemy pymysql"
   ]
  },
  {
   "cell_type": "code",
   "execution_count": 1,
   "id": "1802c6c5-50af-4e21-b53b-3404d571d090",
   "metadata": {},
   "outputs": [
    {
     "name": "stdout",
     "output_type": "stream",
     "text": [
      "2025-02-24 11:52:21,860 INFO sqlalchemy.engine.Engine SELECT DATABASE()\n",
      "2025-02-24 11:52:21,862 INFO sqlalchemy.engine.Engine [raw sql] {}\n",
      "2025-02-24 11:52:21,865 INFO sqlalchemy.engine.Engine SELECT @@sql_mode\n",
      "2025-02-24 11:52:21,865 INFO sqlalchemy.engine.Engine [raw sql] {}\n",
      "2025-02-24 11:52:21,867 INFO sqlalchemy.engine.Engine SELECT @@lower_case_table_names\n",
      "2025-02-24 11:52:21,868 INFO sqlalchemy.engine.Engine [raw sql] {}\n",
      "2025-02-24 11:52:21,870 INFO sqlalchemy.engine.Engine BEGIN (implicit)\n",
      "2025-02-24 11:52:21,871 INFO sqlalchemy.engine.Engine DESCRIBE `mydb`.`user`\n",
      "2025-02-24 11:52:21,872 INFO sqlalchemy.engine.Engine [raw sql] {}\n",
      "2025-02-24 11:52:21,875 INFO sqlalchemy.engine.Engine \n",
      "CREATE TABLE user (\n",
      "\tid INTEGER NOT NULL AUTO_INCREMENT, \n",
      "\tname VARCHAR(10), \n",
      "\tphone VARCHAR(15), \n",
      "\taddress VARCHAR(255), \n",
      "\taddress_detail VARCHAR(255), \n",
      "\tuser_status VARCHAR(6), \n",
      "\tuser_class VARCHAR(10), \n",
      "\temail VARCHAR(50), \n",
      "\tmarketing_agree BOOL, \n",
      "\tsocial_login VARCHAR(10), \n",
      "\tlast_logged_at DATETIME, \n",
      "\tcreated_at DATETIME, \n",
      "\tPRIMARY KEY (id)\n",
      ")\n",
      "\n",
      "\n",
      "2025-02-24 11:52:21,876 INFO sqlalchemy.engine.Engine [no key 0.00085s] {}\n",
      "2025-02-24 11:52:21,910 INFO sqlalchemy.engine.Engine COMMIT\n"
     ]
    },
    {
     "name": "stderr",
     "output_type": "stream",
     "text": [
      "IOPub data rate exceeded.\n",
      "The Jupyter server will temporarily stop sending output\n",
      "to the client in order to avoid crashing it.\n",
      "To change this limit, set the config variable\n",
      "`--ServerApp.iopub_data_rate_limit`.\n",
      "\n",
      "Current values:\n",
      "ServerApp.iopub_data_rate_limit=1000000.0 (bytes/sec)\n",
      "ServerApp.rate_limit_window=3.0 (secs)\n",
      "\n"
     ]
    },
    {
     "name": "stdout",
     "output_type": "stream",
     "text": [
      "2025-02-24 11:52:22,545 INFO sqlalchemy.engine.Engine BEGIN (implicit)\n",
      "2025-02-24 11:52:22,653 INFO sqlalchemy.engine.Engine INSERT INTO user (name, phone, address, address_detail, user_status, user_class, email, marketing_agree, social_login, last_logged_at, created_at) VALUES (%(name)s, %(phone)s, %(address)s, %(address_detail)s, %(user_status)s, %(user_class)s, %(email)s, %(marketing_agree)s, %(social_login)s, %(last_logged_at)s, %(created_at)s)\n",
      "2025-02-24 11:52:22,653 INFO sqlalchemy.engine.Engine [generated in 0.05185s] [{'name': '홍정훈', 'phone': '010-0256-4300', 'address': '서울특별시 송파구 영동대로 380-34 (은서장리)', 'address_detail': '미정차김마을 515호', 'user_status': 'active', 'user_class': 'VIP', 'email': 'pcoe@daum.net', 'marketing_agree': 1, 'social_login': 'google', 'last_logged_at': Timestamp('2025-01-09 01:02:14'), 'created_at': Timestamp('2023-12-04 00:00:00')}, {'name': '박영길', 'phone': '010-0365-0827', 'address': '전라남도 남양주시 학동27거리 479-42', 'address_detail': '경자임빌라 046호', 'user_status': 'active', 'user_class': 'Family', 'email': 'jeongho05@live.com', 'marketing_agree': 1, 'social_login': 'naver', 'last_logged_at': Timestamp('2024-03-31 11:08:53'), 'created_at': Timestamp('2023-07-23 00:00:00')}, {'name': '안미숙', 'phone': '010-3856-7486', 'address': '전라남도 음성군 석촌호수가 559-41', 'address_detail': '은주이타운 T동 833호', 'user_status': 'active', 'user_class': 'Family', 'email': 'eunyeonggim@live.com', 'marketing_agree': 0, 'social_login': 'facebook', 'last_logged_at': Timestamp('2024-11-12 10:50:40'), 'created_at': Timestamp('2024-01-21 00:00:00')}, {'name': '전시우', 'phone': '010-5812-3545', 'address': '제주특별자치도 과천시 서초대9가 488 (진우김이리)', 'address_detail': '성현노아파트 721호', 'user_status': 'active', 'user_class': '일반', 'email': 'ryujihu@nate.com', 'marketing_agree': 1, 'social_login': 'naver', 'last_logged_at': Timestamp('2024-10-15 08:10:01'), 'created_at': Timestamp('2023-05-04 00:00:00')}, {'name': '김영희', 'phone': '010-8406-5792', 'address': '전라북도 성남시 중원구 양재천574길 373-41 (성호윤이동)', 'address_detail': '준영김마을', 'user_status': 'active', 'user_class': 'Family', 'email': 'boramhwang@hotmail.com', 'marketing_agree': 0, 'social_login': 'kakao', 'last_logged_at': Timestamp('2024-03-29 22:57:58'), 'created_at': Timestamp('2023-12-28 00:00:00')}, {'name': '김현정', 'phone': '010-7747-4166', 'address': '서울특별시 양천구 테헤란로 491', 'address_detail': '준호김아파트 655호', 'user_status': 'active', 'user_class': '일반', 'email': 'seojuni@daum.net', 'marketing_agree': 0, 'social_login': 'naver', 'last_logged_at': Timestamp('2024-10-19 22:45:08'), 'created_at': Timestamp('2023-02-23 00:00:00')}, {'name': '김경자', 'phone': '010-5306-2622', 'address': '인천광역시 관악구 압구정길 569 (준영한리)', 'address_detail': '지원오아파트 E동 896호', 'user_status': 'active', 'user_class': '일반', 'email': 'seojungim@hanmail.net', 'marketing_agree': 1, 'social_login': 'google', 'last_logged_at': Timestamp('2025-01-03 00:16:08'), 'created_at': Timestamp('2023-05-19 00:00:00')}, {'name': '심영미', 'phone': '010-6877-2701', 'address': '경상남도 옥천군 영동대길 986-43', 'address_detail': '지은이오타운 023호', 'user_status': 'active', 'user_class': 'VVIP', 'email': 'gimjiyeong@hotmail.com', 'marketing_agree': 1, 'social_login': 'kakao', 'last_logged_at': Timestamp('2024-06-04 07:11:07'), 'created_at': Timestamp('2023-05-03 00:00:00')}  ... displaying 10 of 10000 total bound parameter sets ...  {'name': '최지후', 'phone': '010-6266-5478', 'address': '경기도 수원시 영통구 백제고분거리 220-1', 'address_detail': '은지김연립 I동 571호', 'user_status': 'active', 'user_class': 'VIP', 'email': 'yeeunseo@daum.net', 'marketing_agree': 0, 'social_login': 'google', 'last_logged_at': Timestamp('2024-04-08 13:09:07'), 'created_at': Timestamp('2023-09-07 00:00:00')}, {'name': '김지은', 'phone': '010-3370-8336', 'address': '광주광역시 동구 삼성거리 189-37', 'address_detail': '하은최김마을 K동 837호', 'user_status': 'active', 'user_class': 'VVIP', 'email': 'bagjeongsun@live.com', 'marketing_agree': 0, 'social_login': 'facebook', 'last_logged_at': Timestamp('2024-07-22 06:06:58'), 'created_at': Timestamp('2023-02-27 00:00:00')}]\n",
      "2025-02-24 11:52:23,554 INFO sqlalchemy.engine.Engine COMMIT\n",
      "데이터가 성공적으로 삽입되었습니다!\n"
     ]
    }
   ],
   "source": [
    "import pandas as pd\n",
    "from sqlalchemy import create_engine, Column, Integer, String, Boolean, DateTime\n",
    "#from sqlalchemy.ext.declarative import declarative_base\n",
    "#from sqlalchemy.orm import sessionmaker\n",
    "from sqlalchemy.orm import declarative_base, sessionmaker\n",
    "\n",
    "# MySQL 연결 정보 설정\n",
    "DB_USER = \"root\"\n",
    "DB_PASSWORD = \"rootpw\"\n",
    "DB_HOST = \"localhost\"\n",
    "DB_PORT = \"3306\"\n",
    "DB_NAME = \"mydb\"\n",
    "\n",
    "DATABASE_URL = f\"mysql+pymysql://{DB_USER}:{DB_PASSWORD}@{DB_HOST}:{DB_PORT}/{DB_NAME}\"\n",
    "\n",
    "# SQLAlchemy 엔진 및 세션 생성\n",
    "engine = create_engine(DATABASE_URL, echo=True)\n",
    "Session = sessionmaker(bind=engine)\n",
    "session = Session()\n",
    "\n",
    "# SQLAlchemy ORM 모델 정의\n",
    "Base = declarative_base()\n",
    "\n",
    "class User(Base):\n",
    "    __tablename__ = \"user\"\n",
    "\n",
    "    id = Column(Integer, primary_key=True, autoincrement=True)\n",
    "    name = Column(String(10))\n",
    "    phone = Column(String(15))\n",
    "    address = Column(String(255))\n",
    "    address_detail = Column(String(255))\n",
    "    user_status = Column(String(6))\n",
    "    user_class = Column(String(10))\n",
    "    email = Column(String(50))\n",
    "    marketing_agree = Column(Boolean)\n",
    "    social_login = Column(String(10))\n",
    "    last_logged_at = Column(DateTime)\n",
    "    created_at = Column(DateTime)\n",
    "\n",
    "# 테이블 생성\n",
    "Base.metadata.create_all(engine)\n",
    "\n",
    "# CSV 파일 읽기\n",
    "csv_file = \"user.csv\"  # CSV 파일명\n",
    "df = pd.read_csv(csv_file, parse_dates=[\"last_logged_at\", \"created_at\"])\n",
    "\n",
    "# Boolean 변환 (Pandas는 기본적으로 0/1을 int로 읽음)\n",
    "df[\"marketing_agree\"] = df[\"marketing_agree\"].astype(bool)\n",
    "\n",
    "temp = df.to_dict(orient=\"records\")\n",
    "print(temp)\n",
    "# 데이터 삽입\n",
    "users = [User(**row) for row in df.to_dict(orient=\"records\")]\n",
    "session.bulk_save_objects(users)\n",
    "session.commit()\n",
    "\n",
    "print(\"데이터가 성공적으로 삽입되었습니다!\")"
   ]
  },
  {
   "cell_type": "code",
   "execution_count": 3,
   "id": "032ee842-b46c-410e-af2f-2a8797aad963",
   "metadata": {},
   "outputs": [
    {
     "name": "stdout",
     "output_type": "stream",
     "text": [
      "Collecting pymysql\n",
      "  Using cached PyMySQL-1.1.1-py3-none-any.whl.metadata (4.4 kB)\n",
      "Using cached PyMySQL-1.1.1-py3-none-any.whl (44 kB)\n",
      "Installing collected packages: pymysql\n",
      "Successfully installed pymysql-1.1.1\n"
     ]
    }
   ],
   "source": [
    "!pip install pymysql"
   ]
  },
  {
   "cell_type": "code",
   "execution_count": 4,
   "id": "ff6208d4-424a-4124-aa01-255bab8bdf65",
   "metadata": {},
   "outputs": [
    {
     "name": "stdout",
     "output_type": "stream",
     "text": [
      "Collecting mysqlclient\n",
      "  Downloading mysqlclient-2.2.7-cp39-cp39-win_amd64.whl.metadata (4.8 kB)\n",
      "Downloading mysqlclient-2.2.7-cp39-cp39-win_amd64.whl (207 kB)\n",
      "Installing collected packages: mysqlclient\n",
      "Successfully installed mysqlclient-2.2.7\n"
     ]
    }
   ],
   "source": [
    "!pip install mysqlclient"
   ]
  },
  {
   "cell_type": "code",
   "execution_count": null,
   "id": "7ef70ede-db90-41e6-8b59-9a53b39c4836",
   "metadata": {},
   "outputs": [],
   "source": []
  }
 ],
 "metadata": {
  "kernelspec": {
   "display_name": "Python 3 (ipykernel)",
   "language": "python",
   "name": "python3"
  },
  "language_info": {
   "codemirror_mode": {
    "name": "ipython",
    "version": 3
   },
   "file_extension": ".py",
   "mimetype": "text/x-python",
   "name": "python",
   "nbconvert_exporter": "python",
   "pygments_lexer": "ipython3",
   "version": "3.12.7"
  }
 },
 "nbformat": 4,
 "nbformat_minor": 5
}
