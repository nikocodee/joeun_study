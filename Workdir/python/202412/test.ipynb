{
 "cells": [
  {
   "cell_type": "code",
   "execution_count": 1,
   "metadata": {},
   "outputs": [
    {
     "name": "stdout",
     "output_type": "stream",
     "text": [
      " D ����̺��� ����: �л���\n",
      " ���� �Ϸ� ��ȣ: AAEF-BC2F\n",
      "\n",
      " d:\\Workdir\\python\\202412 ���͸�\n",
      "\n",
      "2024-12-30  ���� 06:11    <DIR>          .\n",
      "2024-12-30  ���� 06:11    <DIR>          ..\n",
      "2024-12-30  ���� 04:36    <DIR>          .ipynb_checkpoints\n",
      "2024-12-30  ���� 05:42    <DIR>          .virtual_documents\n",
      "2024-12-30  ���� 05:22                 0 test.ipynb\n",
      "2024-12-30  ���� 05:41                48 test.py\n",
      "2024-12-30  ���� 06:07                32 test_cp949.csv\n",
      "2024-12-30  ���� 06:11                66 test_utf8.csv\n",
      "2024-12-30  ���� 05:43             1,077 Untitled.ipynb\n",
      "               5�� ����               1,223 ����Ʈ\n",
      "               4�� ���͸�  998,007,955,456 ����Ʈ ����\n"
     ]
    }
   ],
   "source": [
    "!dir"
   ]
  },
  {
   "cell_type": "code",
   "execution_count": null,
   "metadata": {},
   "outputs": [],
   "source": []
  }
 ],
 "metadata": {
  "kernelspec": {
   "display_name": "test",
   "language": "python",
   "name": "python3"
  },
  "language_info": {
   "codemirror_mode": {
    "name": "ipython",
    "version": 3
   },
   "file_extension": ".py",
   "mimetype": "text/x-python",
   "name": "python",
   "nbconvert_exporter": "python",
   "pygments_lexer": "ipython3",
   "version": "3.9.21"
  }
 },
 "nbformat": 4,
 "nbformat_minor": 2
}
