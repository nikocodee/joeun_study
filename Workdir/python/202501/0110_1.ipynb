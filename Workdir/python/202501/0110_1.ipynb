{
 "cells": [
  {
   "cell_type": "code",
   "execution_count": 8,
   "metadata": {},
   "outputs": [
    {
     "name": "stdout",
     "output_type": "stream",
     "text": [
      "ollhe\n"
     ]
    }
   ],
   "source": [
    "def solution(s):\n",
    "    s = list(s)\n",
    "    s.sort()\n",
    "    s.reverse()\n",
    "    return \"\".join(s)\n",
    "\n",
    "input_string = \"hello\"\n",
    "sorted_string = solution(input_string)\n",
    "print(sorted_string)"
   ]
  },
  {
   "cell_type": "code",
   "execution_count": 16,
   "metadata": {},
   "outputs": [
    {
     "name": "stdout",
     "output_type": "stream",
     "text": [
      "9875321\n"
     ]
    }
   ],
   "source": [
    "def solution(s):\n",
    "    s = list(s)\n",
    "    s.sort()\n",
    "    s.reverse()\n",
    "    return \"\".join(s)\n",
    "\n",
    "input_string = \"8579123\"\n",
    "sorted_string = solution(input_string)\n",
    "print(sorted_string)"
   ]
  },
  {
   "cell_type": "code",
   "execution_count": 38,
   "metadata": {},
   "outputs": [
    {
     "data": {
      "text/plain": [
       "15"
      ]
     },
     "execution_count": 38,
     "metadata": {},
     "output_type": "execute_result"
    }
   ],
   "source": [
    "a = 10\n",
    "a+5"
   ]
  },
  {
   "cell_type": "code",
   "execution_count": 42,
   "metadata": {},
   "outputs": [
    {
     "data": {
      "text/plain": [
       "30"
      ]
     },
     "execution_count": 42,
     "metadata": {},
     "output_type": "execute_result"
    }
   ],
   "source": [
    "a = 10\n",
    "a + 5\n",
    "a + 10\n",
    "a + 20\n",
    "# 맨 마지막 꺼만 결과 나옴"
   ]
  },
  {
   "cell_type": "code",
   "execution_count": 43,
   "metadata": {},
   "outputs": [
    {
     "name": "stdout",
     "output_type": "stream",
     "text": [
      "15\n",
      "20\n"
     ]
    },
    {
     "data": {
      "text/plain": [
       "30"
      ]
     },
     "execution_count": 43,
     "metadata": {},
     "output_type": "execute_result"
    }
   ],
   "source": [
    "a = 10\n",
    "print(a + 5)\n",
    "print(a + 10)\n",
    "a + 20"
   ]
  },
  {
   "cell_type": "code",
   "execution_count": 45,
   "metadata": {},
   "outputs": [
    {
     "data": {
      "text/plain": [
       "10"
      ]
     },
     "metadata": {},
     "output_type": "display_data"
    }
   ],
   "source": [
    "# Jupyter Notebook에서 제공하는 함수\n",
    "display(a)"
   ]
  },
  {
   "cell_type": "code",
   "execution_count": 46,
   "metadata": {},
   "outputs": [
    {
     "name": "stdout",
     "output_type": "stream",
     "text": [
      "[0, 5, -7, -10]\n"
     ]
    }
   ],
   "source": [
    "nums = [5,0,-7,-10]\n",
    "print(sorted(nums, key=lambda x : abs(x)))"
   ]
  },
  {
   "cell_type": "code",
   "execution_count": 57,
   "metadata": {},
   "outputs": [
    {
     "name": "stdout",
     "output_type": "stream",
     "text": [
      "f(2,3) = 6\n"
     ]
    }
   ],
   "source": [
    "def function(f):\n",
    "    print(\"f(2,3) = {}\".format(f(2,3)))\n",
    "\n",
    "def mul(a,b):\n",
    "    return a*b\n",
    "\n",
    "function(mul)"
   ]
  },
  {
   "cell_type": "code",
   "execution_count": 75,
   "metadata": {},
   "outputs": [
    {
     "name": "stdout",
     "output_type": "stream",
     "text": [
      "호출전\n",
      "hi\n",
      "hi\n",
      "호출후\n"
     ]
    }
   ],
   "source": [
    "def deco(f):\n",
    "    def new_f():\n",
    "        print(\"호출전\")\n",
    "        f()\n",
    "        print(\"호출후\")   \n",
    "    return new_f\n",
    "\n",
    "@deco\n",
    "def hi():\n",
    "    print(\"hi\")\n",
    "\n",
    "hi()"
   ]
  },
  {
   "cell_type": "code",
   "execution_count": 84,
   "metadata": {},
   "outputs": [
    {
     "name": "stdout",
     "output_type": "stream",
     "text": [
      "10\n",
      "10\n"
     ]
    }
   ],
   "source": [
    "def func_with_print(f):\n",
    "    def new_func(x):\n",
    "        y = f(x)\n",
    "        print(y)\n",
    "        return y\n",
    "    return new_func\n",
    "\n",
    "@func_with_print\n",
    "def double(x):\n",
    "    return 2*x\n",
    "print(double(5))"
   ]
  },
  {
   "cell_type": "code",
   "execution_count": 110,
   "metadata": {},
   "outputs": [
    {
     "name": "stdout",
     "output_type": "stream",
     "text": [
      "Kim Lee\n",
      "Korea Korea\n",
      "South Korea South Korea\n"
     ]
    }
   ],
   "source": [
    "class Korean:\n",
    "    country = \"Korea\"\n",
    "    def set_name(self, name):\n",
    "        self.name = name\n",
    "\n",
    "k1 = Korean()\n",
    "k1.set_name(\"Kim\")\n",
    "k2 = Korean()\n",
    "k2.set_name(\"Lee\")\n",
    "\n",
    "print(k1.name, k2.name)\n",
    "print(k1.country, k2.country)\n",
    "Korean.country = \"South Korea\"\n",
    "print(k1.country, k2.country)"
   ]
  },
  {
   "cell_type": "code",
   "execution_count": 113,
   "metadata": {},
   "outputs": [
    {
     "name": "stdout",
     "output_type": "stream",
     "text": [
      "1 Korea\n",
      "2 South Korea\n",
      "3 Korea\n",
      "4 America\n",
      "5 New York\n",
      "6 America\n"
     ]
    }
   ],
   "source": [
    "class Korean:\n",
    "    country = \"Korea\"\n",
    "    def set_country(self, c):\n",
    "        self.country = c\n",
    "\n",
    "k = Korean()\n",
    "print(1, k.country)\n",
    "k.set_country(\"South Korea\")\n",
    "print(2, k.country)\n",
    "print(3, Korean.country)\n",
    "Korean.country = \"America\"\n",
    "k1 = Korean()\n",
    "print(4, k1.country)\n",
    "k1.set_country(\"New York\")\n",
    "print(5, k1.country)\n",
    "print(6, Korean.country)\n"
   ]
  }
 ],
 "metadata": {
  "kernelspec": {
   "display_name": "test",
   "language": "python",
   "name": "python3"
  },
  "language_info": {
   "codemirror_mode": {
    "name": "ipython",
    "version": 3
   },
   "file_extension": ".py",
   "mimetype": "text/x-python",
   "name": "python",
   "nbconvert_exporter": "python",
   "pygments_lexer": "ipython3",
   "version": "3.9.21"
  }
 },
 "nbformat": 4,
 "nbformat_minor": 2
}
