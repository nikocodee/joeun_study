{
 "cells": [
  {
   "cell_type": "code",
   "execution_count": 13,
   "metadata": {},
   "outputs": [
    {
     "name": "stdout",
     "output_type": "stream",
     "text": [
      "결과 : 9\n"
     ]
    }
   ],
   "source": [
    "class C:\n",
    "    def __call__(self):\n",
    "        print(\"Call 함수 호출!!!\")\n",
    "    def __call__(self, num):\n",
    "        return num**2\n",
    "inst = C()\n",
    "n = inst(3)\n",
    "#print(f\"결과 : {n}\")\n",
    "print(f\"결과 : {inst(3)}\")"
   ]
  },
  {
   "cell_type": "code",
   "execution_count": 6,
   "metadata": {},
   "outputs": [
    {
     "ename": "TypeError",
     "evalue": "__call__() missing 1 required positional argument: 'num'",
     "output_type": "error",
     "traceback": [
      "\u001b[1;31m---------------------------------------------------------------------------\u001b[0m",
      "\u001b[1;31mTypeError\u001b[0m                                 Traceback (most recent call last)",
      "Cell \u001b[1;32mIn[6], line 7\u001b[0m\n\u001b[0;32m      5\u001b[0m         \u001b[38;5;28;01mreturn\u001b[39;00m num\u001b[38;5;241m*\u001b[39m\u001b[38;5;241m*\u001b[39m\u001b[38;5;241m2\u001b[39m\n\u001b[0;32m      6\u001b[0m inst \u001b[38;5;241m=\u001b[39m C()\n\u001b[1;32m----> 7\u001b[0m \u001b[43minst\u001b[49m\u001b[43m(\u001b[49m\u001b[43m)\u001b[49m\n",
      "\u001b[1;31mTypeError\u001b[0m: __call__() missing 1 required positional argument: 'num'"
     ]
    }
   ],
   "source": [
    "class C:\n",
    "    def __call__(self):\n",
    "        print(\"Call 함수 호출!!!\")\n",
    "    def __call__(self, num):\n",
    "        return num**2\n",
    "inst = C()\n",
    "inst()"
   ]
  },
  {
   "cell_type": "code",
   "execution_count": 18,
   "metadata": {},
   "outputs": [
    {
     "name": "stdout",
     "output_type": "stream",
     "text": [
      "Call 함수 호출!!!\n"
     ]
    }
   ],
   "source": [
    "class C:\n",
    "    def __call__(self, num):\n",
    "        return num**2\n",
    "    def __call__(self):\n",
    "        print(\"Call 함수 호출!!!\")\n",
    "inst = C()\n",
    "inst()"
   ]
  },
  {
   "cell_type": "code",
   "execution_count": 9,
   "metadata": {},
   "outputs": [
    {
     "name": "stdout",
     "output_type": "stream",
     "text": [
      "Call 함수 호출!!!\n"
     ]
    },
    {
     "ename": "TypeError",
     "evalue": "__call__() takes 1 positional argument but 3 were given",
     "output_type": "error",
     "traceback": [
      "\u001b[1;31m---------------------------------------------------------------------------\u001b[0m",
      "\u001b[1;31mTypeError\u001b[0m                                 Traceback (most recent call last)",
      "Cell \u001b[1;32mIn[9], line 8\u001b[0m\n\u001b[0;32m      6\u001b[0m inst \u001b[38;5;241m=\u001b[39m C()\n\u001b[0;32m      7\u001b[0m n \u001b[38;5;241m=\u001b[39m inst()\n\u001b[1;32m----> 8\u001b[0m \u001b[38;5;28mprint\u001b[39m(\u001b[38;5;124mf\u001b[39m\u001b[38;5;124m\"\u001b[39m\u001b[38;5;124m결과 : \u001b[39m\u001b[38;5;132;01m{\u001b[39;00minst(\u001b[38;5;241m3\u001b[39m,\u001b[38;5;241m5\u001b[39m)\u001b[38;5;132;01m}\u001b[39;00m\u001b[38;5;124m\"\u001b[39m)\n",
      "\u001b[1;31mTypeError\u001b[0m: __call__() takes 1 positional argument but 3 were given"
     ]
    }
   ],
   "source": [
    "class C:\n",
    "    def __call__(self, num):\n",
    "        return num**2\n",
    "    def __call__(self):\n",
    "        print(\"Call 함수 호출!!!\")\n",
    "inst = C()\n",
    "n = inst()\n",
    "print(f\"결과 : {inst(3,5)}\")"
   ]
  },
  {
   "cell_type": "code",
   "execution_count": 21,
   "metadata": {},
   "outputs": [
    {
     "name": "stdout",
     "output_type": "stream",
     "text": [
      "Call 함수 호출!!!\n"
     ]
    },
    {
     "ename": "TypeError",
     "evalue": "__call__() takes 1 positional argument but 3 were given",
     "output_type": "error",
     "traceback": [
      "\u001b[1;31m---------------------------------------------------------------------------\u001b[0m",
      "\u001b[1;31mTypeError\u001b[0m                                 Traceback (most recent call last)",
      "Cell \u001b[1;32mIn[21], line 8\u001b[0m\n\u001b[0;32m      6\u001b[0m inst \u001b[38;5;241m=\u001b[39m C()\n\u001b[0;32m      7\u001b[0m n \u001b[38;5;241m=\u001b[39m inst()\n\u001b[1;32m----> 8\u001b[0m \u001b[38;5;28mprint\u001b[39m(\u001b[38;5;124mf\u001b[39m\u001b[38;5;124m\"\u001b[39m\u001b[38;5;124m결과 : \u001b[39m\u001b[38;5;132;01m{\u001b[39;00minst(\u001b[38;5;241m3\u001b[39m,\u001b[38;5;241m5\u001b[39m)\u001b[38;5;132;01m}\u001b[39;00m\u001b[38;5;124m\"\u001b[39m)\n",
      "\u001b[1;31mTypeError\u001b[0m: __call__() takes 1 positional argument but 3 were given"
     ]
    }
   ],
   "source": [
    "class C:\n",
    "    def __call__(self, num):\n",
    "        return num**2\n",
    "    def __call__(self):\n",
    "        print(\"Call 함수 호출!!!\")\n",
    "inst = C()\n",
    "n = inst()\n",
    "print(f\"결과 : {inst(3,5)}\")"
   ]
  },
  {
   "cell_type": "code",
   "execution_count": 20,
   "metadata": {},
   "outputs": [
    {
     "name": "stdout",
     "output_type": "stream",
     "text": [
      "Call 함수 호출!!!\n"
     ]
    },
    {
     "ename": "TypeError",
     "evalue": "__call__() takes 1 positional argument but 3 were given",
     "output_type": "error",
     "traceback": [
      "\u001b[1;31m---------------------------------------------------------------------------\u001b[0m",
      "\u001b[1;31mTypeError\u001b[0m                                 Traceback (most recent call last)",
      "Cell \u001b[1;32mIn[20], line 9\u001b[0m\n\u001b[0;32m      7\u001b[0m inst \u001b[38;5;241m=\u001b[39m C()\n\u001b[0;32m      8\u001b[0m inst()\n\u001b[1;32m----> 9\u001b[0m \u001b[38;5;28mprint\u001b[39m(\u001b[38;5;124mf\u001b[39m\u001b[38;5;124m\"\u001b[39m\u001b[38;5;124m결과 : \u001b[39m\u001b[38;5;132;01m{\u001b[39;00minst(\u001b[38;5;241m3\u001b[39m,\u001b[38;5;241m5\u001b[39m)\u001b[38;5;132;01m}\u001b[39;00m\u001b[38;5;124m\"\u001b[39m)\n",
      "\u001b[1;31mTypeError\u001b[0m: __call__() takes 1 positional argument but 3 were given"
     ]
    }
   ],
   "source": [
    "class C:\n",
    "    def __call__(self, num, n2):\n",
    "        return n2**2\n",
    "    def __call__(self):\n",
    "        print(\"Call 함수 호출!!!\")\n",
    "\n",
    "inst = C()\n",
    "inst()\n",
    "print(f\"결과 : {inst(3,5)}\")"
   ]
  },
  {
   "cell_type": "code",
   "execution_count": 27,
   "metadata": {},
   "outputs": [
    {
     "name": "stdout",
     "output_type": "stream",
     "text": [
      "2\n"
     ]
    }
   ],
   "source": [
    "class MyList:\n",
    "    def __init__(self, items):\n",
    "        self.items = items\n",
    "        self.data = [1,2,3]\n",
    "    def __getitem__(self,index):\n",
    "        return self.data[index]\n",
    "\n",
    "my_list = MyList([10,20,30])\n",
    "print(my_list[1])"
   ]
  },
  {
   "cell_type": "code",
   "execution_count": 1,
   "metadata": {},
   "outputs": [
    {
     "name": "stdout",
     "output_type": "stream",
     "text": [
      "Person(name='Alice', age=30)\n"
     ]
    }
   ],
   "source": [
    "class Person:\n",
    "    def __init__(self, name, age):\n",
    "        self.name = name\n",
    "        self.age = age\n",
    "\n",
    "    def __repr__(self):\n",
    "        return f\"Person(name={self.name!r}, age={self.age})\"\n",
    "\n",
    "person = Person(\"Alice\", 30)\n",
    "print(repr(person))"
   ]
  },
  {
   "cell_type": "code",
   "execution_count": 4,
   "metadata": {},
   "outputs": [
    {
     "name": "stdout",
     "output_type": "stream",
     "text": [
      "Vector(5.00, 10.00)\n"
     ]
    }
   ],
   "source": [
    "class Vector:\n",
    "    def __init__(self, x, y):\n",
    "        self.x = x\n",
    "        self.y = y\n",
    "\n",
    "    def __truediv__(self, scalar):\n",
    "        return Vector(self.x / scalar, self.y / scalar)\n",
    "\n",
    "    def __repr__(self):\n",
    "        return f\"Vector({self.x:.2f}, {self.y:.2f})\"\n",
    "\n",
    "v = Vector(10, 20)\n",
    "result = v / 2\n",
    "print(result)"
   ]
  },
  {
   "cell_type": "code",
   "execution_count": 9,
   "metadata": {},
   "outputs": [
    {
     "data": {
      "text/plain": [
       "False"
      ]
     },
     "execution_count": 9,
     "metadata": {},
     "output_type": "execute_result"
    }
   ],
   "source": [
    "bool(0)"
   ]
  },
  {
   "cell_type": "code",
   "execution_count": 10,
   "metadata": {},
   "outputs": [
    {
     "data": {
      "text/plain": [
       "False"
      ]
     },
     "execution_count": 10,
     "metadata": {},
     "output_type": "execute_result"
    }
   ],
   "source": [
    "bool([])"
   ]
  },
  {
   "cell_type": "code",
   "execution_count": 11,
   "metadata": {},
   "outputs": [
    {
     "data": {
      "text/plain": [
       "False"
      ]
     },
     "execution_count": 11,
     "metadata": {},
     "output_type": "execute_result"
    }
   ],
   "source": [
    "bool('')"
   ]
  },
  {
   "cell_type": "code",
   "execution_count": 12,
   "metadata": {},
   "outputs": [
    {
     "data": {
      "text/plain": [
       "True"
      ]
     },
     "execution_count": 12,
     "metadata": {},
     "output_type": "execute_result"
    }
   ],
   "source": [
    "bool(\" \")"
   ]
  },
  {
   "cell_type": "code",
   "execution_count": 16,
   "metadata": {},
   "outputs": [
    {
     "name": "stdout",
     "output_type": "stream",
     "text": [
      "Alice 30\n"
     ]
    }
   ],
   "source": [
    "class Person:\n",
    "    def __init__(self, name, age):\n",
    "        self.name = name\n",
    "        self.age = age\n",
    "\n",
    "person = Person(\"Alice\", 30)\n",
    "print(person.name, person.age)"
   ]
  },
  {
   "cell_type": "code",
   "execution_count": 21,
   "metadata": {},
   "outputs": [
    {
     "name": "stdout",
     "output_type": "stream",
     "text": [
      "Toyota 아무거나\n",
      "Honda 아무거나\n",
      "4\n",
      "미정 아무거나\n"
     ]
    }
   ],
   "source": [
    "class Car:\n",
    "    # 클래스 속성\n",
    "    wheels = 4\n",
    "    brand = \"미정\"\n",
    "    model = \"아무거나\"\n",
    "\n",
    "    def __init__(self, brand, model):\n",
    "        # 인스턴스 속성\n",
    "        self.brand = brand\n",
    "        #self.model = model\n",
    "\n",
    "car1 = Car(\"Toyota\", \"Corolla\")\n",
    "car2 = Car(\"Honda\", \"Civic\")\n",
    "\n",
    "print(car1.brand, car1.model)  # Toyota Corolla\n",
    "print(car2.brand, car2.model)  # Honda Civic\n",
    "print(Car.wheels)              # 4 , 여기서 Car은 클래스\n",
    "print(Car.brand, Car.model)"
   ]
  },
  {
   "cell_type": "code",
   "execution_count": 26,
   "metadata": {},
   "outputs": [
    {
     "ename": "AttributeError",
     "evalue": "'MyClass' object has no attribute '__name'",
     "output_type": "error",
     "traceback": [
      "\u001b[1;31m---------------------------------------------------------------------------\u001b[0m",
      "\u001b[1;31mAttributeError\u001b[0m                            Traceback (most recent call last)",
      "Cell \u001b[1;32mIn[26], line 6\u001b[0m\n\u001b[0;32m      3\u001b[0m         \u001b[38;5;28mself\u001b[39m\u001b[38;5;241m.\u001b[39m__name \u001b[38;5;241m=\u001b[39m value\n\u001b[0;32m      5\u001b[0m obj \u001b[38;5;241m=\u001b[39m MyClass(\u001b[38;5;124m\"\u001b[39m\u001b[38;5;124mAlice\u001b[39m\u001b[38;5;124m\"\u001b[39m)\n\u001b[1;32m----> 6\u001b[0m \u001b[38;5;28mprint\u001b[39m(\u001b[43mobj\u001b[49m\u001b[38;5;241;43m.\u001b[39;49m\u001b[43m__name\u001b[49m)\n",
      "\u001b[1;31mAttributeError\u001b[0m: 'MyClass' object has no attribute '__name'"
     ]
    }
   ],
   "source": [
    "class MyClass:\n",
    "    def __init__(self, value):\n",
    "        self.__name = value\n",
    "\n",
    "obj = MyClass(\"Alice\")\n",
    "print(obj.__name)"
   ]
  },
  {
   "cell_type": "code",
   "execution_count": 33,
   "metadata": {},
   "outputs": [
    {
     "name": "stdout",
     "output_type": "stream",
     "text": [
      "Alice\n",
      "Bob\n"
     ]
    }
   ],
   "source": [
    "class MyClass:\n",
    "    def __init__(self, value):\n",
    "        self.__name = value\n",
    "\n",
    "    def get_name(self):\n",
    "        return self.__name\n",
    "    \n",
    "    def set_name(self, value):\n",
    "        self.__name = value\n",
    "\n",
    "obj = MyClass(\"Alice\")\n",
    "print(obj.get_name())\n",
    "obj.set_name(\"Bob\")\n",
    "print(obj.get_name())"
   ]
  },
  {
   "cell_type": "code",
   "execution_count": 34,
   "metadata": {},
   "outputs": [
    {
     "name": "stdout",
     "output_type": "stream",
     "text": [
      "Hello from Parent!\n"
     ]
    }
   ],
   "source": [
    "class Parent:\n",
    "    def greet(self):\n",
    "        print(\"Hello from Parent!\")\n",
    "\n",
    "class Child(Parent):\n",
    "    pass\n",
    "\n",
    "child = Child()\n",
    "child.greet()"
   ]
  },
  {
   "cell_type": "code",
   "execution_count": 35,
   "metadata": {},
   "outputs": [
    {
     "name": "stdout",
     "output_type": "stream",
     "text": [
      "Hello from Child!\n"
     ]
    }
   ],
   "source": [
    "class Parent:\n",
    "    def greet(self):\n",
    "        print(\"Hello from Parent!\")\n",
    "\n",
    "class Child(Parent):\n",
    "    def greet(self):\n",
    "        print(\"Hello from Child!\")\n",
    "\n",
    "child = Child()\n",
    "child.greet()"
   ]
  },
  {
   "cell_type": "code",
   "execution_count": 36,
   "metadata": {},
   "outputs": [
    {
     "name": "stdout",
     "output_type": "stream",
     "text": [
      "Hello from Parent!\n",
      "Hello from Child!\n"
     ]
    }
   ],
   "source": [
    "class Parent:\n",
    "    def greet(self):\n",
    "        print(\"Hello from Parent!\")\n",
    "\n",
    "class Child(Parent):\n",
    "    def greet(self):\n",
    "        super().greet()\n",
    "        print(\"Hello from Child!\")\n",
    "\n",
    "child = Child()\n",
    "child.greet()"
   ]
  },
  {
   "cell_type": "code",
   "execution_count": 43,
   "metadata": {},
   "outputs": [
    {
     "name": "stdout",
     "output_type": "stream",
     "text": [
      "Hello from Parent!\n",
      "Hello from Child!\n"
     ]
    }
   ],
   "source": [
    "class Parent:\n",
    "    def greet(self):\n",
    "        print(\"Hello from Parent!\")\n",
    "\n",
    "class Child(Parent):\n",
    "    def greet(self):\n",
    "        sp = super()\n",
    "        sp.greet()\n",
    "        print(\"Hello from Child!\")\n",
    "\n",
    "child = Child()\n",
    "child.greet()"
   ]
  },
  {
   "cell_type": "code",
   "execution_count": 50,
   "metadata": {},
   "outputs": [
    {
     "name": "stdout",
     "output_type": "stream",
     "text": [
      "Hello from A!\n"
     ]
    }
   ],
   "source": [
    "class A:\n",
    "    def greet(self):\n",
    "        print(\"Hello from A!\")\n",
    "class B:\n",
    "    def greet(self):\n",
    "        print(\"Hello from B!\")\n",
    "\n",
    "\n",
    "class C(A, B):\n",
    "    pass\n",
    "\n",
    "# 실행\n",
    "c = C()\n",
    "c.greet()"
   ]
  },
  {
   "cell_type": "code",
   "execution_count": 58,
   "metadata": {},
   "outputs": [
    {
     "name": "stdout",
     "output_type": "stream",
     "text": [
      "Hello from Child!\n"
     ]
    }
   ],
   "source": [
    "from abc import ABC, abstractmethod\n",
    "\n",
    "class AbstractParent(ABC):\n",
    "    @abstractmethod\n",
    "    def greet(self):\n",
    "        pass\n",
    "\n",
    "class Child(AbstractParent):\n",
    "    def greet(self):\n",
    "        print(\"Hello from Child!\")\n",
    "\n",
    "# 실행\n",
    "child = Child()\n",
    "child.greet()"
   ]
  },
  {
   "cell_type": "code",
   "execution_count": 59,
   "metadata": {},
   "outputs": [],
   "source": [
    "from abc import ABC, abstractmethod\n",
    "\n",
    "class AbstractParent(ABC):\n",
    "    @abstractmethod\n",
    "    def greet(self):\n",
    "        pass\n",
    "\n",
    "class Child(AbstractParent):\n",
    "    def greet(self):\n",
    "        pass\n",
    "\n",
    "# 실행\n",
    "child = Child()\n",
    "child.greet()"
   ]
  },
  {
   "cell_type": "code",
   "execution_count": 63,
   "metadata": {},
   "outputs": [
    {
     "ename": "TypeError",
     "evalue": "Can't instantiate abstract class Child with abstract method greet",
     "output_type": "error",
     "traceback": [
      "\u001b[1;31m---------------------------------------------------------------------------\u001b[0m",
      "\u001b[1;31mTypeError\u001b[0m                                 Traceback (most recent call last)",
      "Cell \u001b[1;32mIn[63], line 14\u001b[0m\n\u001b[0;32m     11\u001b[0m         \u001b[38;5;28;01mpass\u001b[39;00m\n\u001b[0;32m     13\u001b[0m \u001b[38;5;66;03m# 실행\u001b[39;00m\n\u001b[1;32m---> 14\u001b[0m child \u001b[38;5;241m=\u001b[39m \u001b[43mChild\u001b[49m\u001b[43m(\u001b[49m\u001b[43m)\u001b[49m\n\u001b[0;32m     15\u001b[0m child\u001b[38;5;241m.\u001b[39mgreet()\n",
      "\u001b[1;31mTypeError\u001b[0m: Can't instantiate abstract class Child with abstract method greet"
     ]
    }
   ],
   "source": [
    "from abc import ABC, abstractmethod\n",
    "\n",
    "class AbstractParent(ABC):\n",
    "    @abstractmethod\n",
    "    def greet(self):\n",
    "        pass\n",
    "\n",
    "class Child(AbstractParent):\n",
    "    #def greet(self):\n",
    "        #print(\"Hello from Child!\")\n",
    "        pass\n",
    "\n",
    "# 실행\n",
    "child = Child()\n",
    "child.greet()"
   ]
  },
  {
   "cell_type": "code",
   "execution_count": 65,
   "metadata": {},
   "outputs": [
    {
     "ename": "TypeError",
     "evalue": "Can't instantiate abstract class Child with abstract method greet",
     "output_type": "error",
     "traceback": [
      "\u001b[1;31m---------------------------------------------------------------------------\u001b[0m",
      "\u001b[1;31mTypeError\u001b[0m                                 Traceback (most recent call last)",
      "Cell \u001b[1;32mIn[65], line 17\u001b[0m\n\u001b[0;32m     14\u001b[0m         \u001b[38;5;28;01mpass\u001b[39;00m\n\u001b[0;32m     16\u001b[0m \u001b[38;5;66;03m# 실행\u001b[39;00m\n\u001b[1;32m---> 17\u001b[0m child \u001b[38;5;241m=\u001b[39m \u001b[43mChild\u001b[49m\u001b[43m(\u001b[49m\u001b[43m)\u001b[49m\n\u001b[0;32m     18\u001b[0m child\u001b[38;5;241m.\u001b[39mgreet()\n",
      "\u001b[1;31mTypeError\u001b[0m: Can't instantiate abstract class Child with abstract method greet"
     ]
    }
   ],
   "source": [
    "from abc import ABC, abstractmethod\n",
    "\n",
    "class AbstractParent(ABC):\n",
    "    @abstractmethod\n",
    "    def greet(self):\n",
    "        pass\n",
    "\n",
    "class Child(AbstractParent):\n",
    "    #def greet(self):\n",
    "        #print(\"Hello from Child!\")\n",
    "    try:\n",
    "        pass\n",
    "    except:\n",
    "        pass\n",
    "\n",
    "# 실행\n",
    "child = Child()\n",
    "child.greet()"
   ]
  },
  {
   "cell_type": "code",
   "execution_count": 75,
   "metadata": {},
   "outputs": [
    {
     "name": "stdout",
     "output_type": "stream",
     "text": [
      "Parent\n"
     ]
    }
   ],
   "source": [
    "class Parent:\n",
    "    role = \"Parent\"\n",
    "\n",
    "class Child(Parent):\n",
    "    pass\n",
    "\n",
    "# 실행\n",
    "print(Child.role)"
   ]
  },
  {
   "cell_type": "code",
   "execution_count": 78,
   "metadata": {},
   "outputs": [
    {
     "name": "stdout",
     "output_type": "stream",
     "text": [
      "Child\n"
     ]
    }
   ],
   "source": [
    "class Parent:\n",
    "    role = \"Parent\"\n",
    "\n",
    "class Child(Parent):\n",
    "    role = \"Child\"\n",
    "\n",
    "# 실행\n",
    "print(Child.role)"
   ]
  },
  {
   "cell_type": "code",
   "execution_count": 79,
   "metadata": {},
   "outputs": [
    {
     "name": "stdout",
     "output_type": "stream",
     "text": [
      "Child\n"
     ]
    },
    {
     "data": {
      "text/plain": [
       "'Child'"
      ]
     },
     "execution_count": 79,
     "metadata": {},
     "output_type": "execute_result"
    }
   ],
   "source": [
    "class Parent:\n",
    "    role = \"Parent\"\n",
    "\n",
    "class Child(Parent):\n",
    "    role = \"Child\"\n",
    "\n",
    "# 실행\n",
    "print(Child.role)\n",
    "Child().role"
   ]
  },
  {
   "cell_type": "code",
   "execution_count": 80,
   "metadata": {},
   "outputs": [
    {
     "name": "stdout",
     "output_type": "stream",
     "text": [
      "This is Child\n"
     ]
    }
   ],
   "source": [
    "class Parent:\n",
    "    @classmethod\n",
    "    def describe(cls):\n",
    "        print(f\"This is {cls.__name__}\")\n",
    "\n",
    "class Child(Parent):\n",
    "    pass\n",
    "\n",
    "# 실행\n",
    "Child.describe()"
   ]
  },
  {
   "cell_type": "code",
   "execution_count": 86,
   "metadata": {},
   "outputs": [
    {
     "name": "stdout",
     "output_type": "stream",
     "text": [
      "Hello before Parent's greeting\n",
      "Hello from Parent!\n",
      "Hello after Parent's greeting\n"
     ]
    }
   ],
   "source": [
    "class Parent:\n",
    "    def greet(self):\n",
    "        print(\"Hello from Parent!\")\n",
    "\n",
    "class Child(Parent):\n",
    "    def greet(self):\n",
    "        print(\"Hello before Parent's greeting\")\n",
    "        super().greet()\n",
    "        print(\"Hello after Parent's greeting\")\n",
    "\n",
    "# 실행\n",
    "child = Child()\n",
    "child.greet()"
   ]
  },
  {
   "cell_type": "code",
   "execution_count": 107,
   "metadata": {},
   "outputs": [
    {
     "name": "stdout",
     "output_type": "stream",
     "text": [
      "Hello from C!\n",
      "Hello from A!\n",
      "Hello from BBB!\n",
      "C.__mro__ : (<class '__main__.C'>, <class '__main__.A'>, <class '__main__.B'>, <class 'object'>)\n",
      "C.mro() : [<class '__main__.C'>, <class '__main__.A'>, <class '__main__.B'>, <class 'object'>]\n"
     ]
    }
   ],
   "source": [
    "class A:\n",
    "    def greet(self):\n",
    "        print(\"Hello from A!\")\n",
    "\n",
    "class B:\n",
    "    def greet(self):\n",
    "        print(\"Hello from B!\")\n",
    "    def greetB(self):\n",
    "        print(\"Hello from BBB!\")\n",
    "\n",
    "class C(A, B):\n",
    "    def greet(self):\n",
    "        print(\"Hello from C!\")\n",
    "        super().greet()\n",
    "        super().greetB()\n",
    "\n",
    "# 실행\n",
    "c = C()\n",
    "c.greet()\n",
    "#C.__mro__\n",
    "#C.mro\n",
    "print(\"C.__mro__ : \"+ str(C.__mro__))\n",
    "print(\"C.mro() : \"+ str(C.mro()))"
   ]
  },
  {
   "cell_type": "code",
   "execution_count": 111,
   "metadata": {},
   "outputs": [
    {
     "name": "stdout",
     "output_type": "stream",
     "text": [
      "Car starts!\n",
      "Engine starts!\n"
     ]
    }
   ],
   "source": [
    "class Engine:\n",
    "    def start(self):\n",
    "        print(\"Engine starts!\")\n",
    "\n",
    "class Car:\n",
    "    def __init__(self):\n",
    "        self.engine = Engine()\n",
    "\n",
    "    def start(self):\n",
    "        print(\"Car starts!\")\n",
    "        self.engine.start()\n",
    "\n",
    "# 실행\n",
    "car = Car()\n",
    "car.start()"
   ]
  },
  {
   "cell_type": "code",
   "execution_count": 116,
   "metadata": {},
   "outputs": [
    {
     "name": "stdout",
     "output_type": "stream",
     "text": [
      "[1, 2, 3]\n",
      "[1, 2, 3, 4]\n"
     ]
    }
   ],
   "source": [
    "import copy\n",
    "\n",
    "class Parent:\n",
    "    def __init__(self):\n",
    "        self.data = [1, 2, 3]\n",
    "\n",
    "class Child(Parent):\n",
    "    pass\n",
    "\n",
    "# 실행\n",
    "parent = Parent()\n",
    "child = copy.deepcopy(parent)\n",
    "#child = parent\n",
    "child.data.append(4)\n",
    "\n",
    "print(parent.data)  # [1, 2, 3]\n",
    "print(child.data)   # [1, 2, 3, 4]"
   ]
  },
  {
   "cell_type": "code",
   "execution_count": null,
   "metadata": {},
   "outputs": [],
   "source": []
  }
 ],
 "metadata": {
  "kernelspec": {
   "display_name": "test",
   "language": "python",
   "name": "python3"
  },
  "language_info": {
   "codemirror_mode": {
    "name": "ipython",
    "version": 3
   },
   "file_extension": ".py",
   "mimetype": "text/x-python",
   "name": "python",
   "nbconvert_exporter": "python",
   "pygments_lexer": "ipython3",
   "version": "3.9.21"
  }
 },
 "nbformat": 4,
 "nbformat_minor": 2
}
