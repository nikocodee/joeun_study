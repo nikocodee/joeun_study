{
 "cells": [
  {
   "cell_type": "code",
   "execution_count": 9,
   "metadata": {},
   "outputs": [
    {
     "name": "stdout",
     "output_type": "stream",
     "text": [
      "4.0\n"
     ]
    }
   ],
   "source": [
    "a = 20\n",
    "b = 5\n",
    "result = a / b\n",
    "print(result)"
   ]
  },
  {
   "cell_type": "code",
   "execution_count": 10,
   "metadata": {},
   "outputs": [
    {
     "name": "stdout",
     "output_type": "stream",
     "text": [
      "4\n"
     ]
    }
   ],
   "source": [
    "a = 20\n",
    "b = 5\n",
    "result = a // b\n",
    "print(result)"
   ]
  },
  {
   "cell_type": "code",
   "execution_count": 11,
   "metadata": {},
   "outputs": [
    {
     "name": "stdout",
     "output_type": "stream",
     "text": [
      "2.0\n"
     ]
    }
   ],
   "source": [
    "a = 20.0\n",
    "b = 6\n",
    "result = a % b\n",
    "print(result)"
   ]
  },
  {
   "cell_type": "code",
   "execution_count": 17,
   "metadata": {},
   "outputs": [
    {
     "name": "stdout",
     "output_type": "stream",
     "text": [
      "True\n",
      "False\n",
      "True\n",
      "True\n",
      "True\n"
     ]
    }
   ],
   "source": [
    "a = [1, 2, 3]\n",
    "b = a\n",
    "c = [1, 2, 3]\n",
    "\n",
    "print(a is b)  # True, 같은 객체를 참조\n",
    "print(a is c)  # False, 내용은 같지만 다른 객체\n",
    "print(a is not c)  # True, 다른 객체\n",
    "print(a == b) # True\n",
    "print(a == c) # True, 객체의 값이 같은지"
   ]
  },
  {
   "cell_type": "code",
   "execution_count": 19,
   "metadata": {},
   "outputs": [
    {
     "name": "stdout",
     "output_type": "stream",
     "text": [
      "[2, 4, 6, 8]\n"
     ]
    }
   ],
   "source": [
    "dat = []\n",
    "for i in range(1,10):\n",
    "    if i % 2 != 0:\n",
    "        continue\n",
    "    dat.append(i)\n",
    "print(dat)\n"
   ]
  },
  {
   "cell_type": "code",
   "execution_count": 26,
   "metadata": {},
   "outputs": [
    {
     "name": "stdout",
     "output_type": "stream",
     "text": [
      "1 홀수 : continue\n",
      "2 짝수 : append\n",
      "3 홀수 : continue\n",
      "4 짝수 : append\n",
      "5 홀수 : continue\n",
      "6 짝수 : append\n",
      "7 홀수 : continue\n",
      "8 짝수 : append\n",
      "9 홀수 : continue\n",
      "[2, 4, 6, 8]\n"
     ]
    }
   ],
   "source": [
    "dat = []\n",
    "for i in range(1,10):\n",
    "    if i % 2 != 0:\n",
    "        print(f\"{i} 홀수 : continue\")\n",
    "        continue\n",
    "    print(f\"{i} 짝수 : append\")\n",
    "    dat.append(i)\n",
    "print(dat)\n"
   ]
  },
  {
   "cell_type": "code",
   "execution_count": 28,
   "metadata": {},
   "outputs": [
    {
     "name": "stdout",
     "output_type": "stream",
     "text": [
      "[]\n"
     ]
    }
   ],
   "source": [
    "dat = []\n",
    "for i in range(1,10):\n",
    "    if i % 2 != 0:\n",
    "        break\n",
    "    dat.append(i)\n",
    "print(dat)"
   ]
  },
  {
   "cell_type": "code",
   "execution_count": 33,
   "metadata": {},
   "outputs": [
    {
     "name": "stdout",
     "output_type": "stream",
     "text": [
      "0b1000\n",
      "0b1110\n",
      "0b110\n"
     ]
    }
   ],
   "source": [
    "a = 0b1010  # 10\n",
    "b = 0b1100  # 12\n",
    "\n",
    "print(bin(a & b))  # '0b1000' (AND)\n",
    "print(bin(a | b))  # '0b1110' (OR)\n",
    "print(bin(a ^ b))  # '0b0110' (XOR)"
   ]
  },
  {
   "cell_type": "code",
   "execution_count": 44,
   "metadata": {},
   "outputs": [
    {
     "name": "stdout",
     "output_type": "stream",
     "text": [
      "1 2 3\n",
      "10 20 30\n"
     ]
    }
   ],
   "source": [
    "def my_func(a, b, c):\n",
    "    print(a, b, c)\n",
    "\n",
    "lst = [1, 2, 3]\n",
    "my_func(*lst)  # 1 2 3\n",
    "\n",
    "dict_args = {\"a\": 10, \"b\": 20, \"c\": 30}\n",
    "my_func(**dict_args)  # 10 20 30"
   ]
  },
  {
   "cell_type": "code",
   "execution_count": 49,
   "metadata": {},
   "outputs": [
    {
     "name": "stdout",
     "output_type": "stream",
     "text": [
      "[1, 2, 3] 99 90\n",
      "{'a': 10, 'b': 20, 'c': 30} 44 54\n"
     ]
    }
   ],
   "source": [
    "def my_func(a, b, c):\n",
    "    print(a, b, c)\n",
    "\n",
    "lst = [1, 2, 3]\n",
    "my_func(lst, 99, 90)  # 1 2 3\n",
    "\n",
    "dict_args = {\"a\": 10, \"b\": 20, \"c\": 30}\n",
    "my_func(dict_args, 44,54)  # 10 20 30"
   ]
  },
  {
   "cell_type": "code",
   "execution_count": 50,
   "metadata": {},
   "outputs": [
    {
     "name": "stdout",
     "output_type": "stream",
     "text": [
      "Length is 5\n"
     ]
    }
   ],
   "source": [
    "if (n := len([1, 2, 3, 4, 5])) > 3:\n",
    "    print(f\"Length is {n}\")"
   ]
  },
  {
   "cell_type": "code",
   "execution_count": 56,
   "metadata": {},
   "outputs": [
    {
     "name": "stdout",
     "output_type": "stream",
     "text": [
      "x is None\n"
     ]
    }
   ],
   "source": [
    "x = None\n",
    "\n",
    "if x is None:\n",
    "    print(\"x is None\")\n",
    "else:\n",
    "    print(\"x is not None\")"
   ]
  },
  {
   "cell_type": "code",
   "execution_count": 57,
   "metadata": {},
   "outputs": [
    {
     "name": "stdout",
     "output_type": "stream",
     "text": [
      "x is None\n"
     ]
    }
   ],
   "source": [
    "x = None\n",
    "\n",
    "if x == None:\n",
    "    print(\"x is None\")\n",
    "else:\n",
    "    print(\"x is not None\")"
   ]
  },
  {
   "cell_type": "code",
   "execution_count": 77,
   "metadata": {},
   "outputs": [
    {
     "name": "stdout",
     "output_type": "stream",
     "text": [
      "[10, 20, 30]\n",
      "[50, 40, 30, 20, 10, 0]\n",
      "[0, 10, 4444, 30, 40, 50]\n",
      "[0, 10, 4444, 30, 40, 50]\n",
      "temp : [10, 4444, 30]\n",
      "temp : [10, 99, 30]\n",
      "[0, 10, 4444, 30, 40, 50]\n"
     ]
    }
   ],
   "source": [
    "lst = [0, 10, 20, 30, 40, 50]\n",
    "print(lst[1:4])\n",
    "print(lst[::-1])\n",
    "'''\n",
    "print(lst)\n",
    "lst[2] = 222\n",
    "print(lst)\n",
    "print(temp)\n",
    "print(lst_temp)\n",
    "'''\n",
    "lst_temp = lst\n",
    "lst[2] = 4444\n",
    "temp = lst[1:4]\n",
    "print(lst)\n",
    "print(lst_temp)\n",
    "print(\"temp : \"+ str(temp))\n",
    "temp[1] = 99\n",
    "print(\"temp : \"+ str(temp))\n",
    "print(lst)\n"
   ]
  },
  {
   "cell_type": "code",
   "execution_count": 217,
   "metadata": {},
   "outputs": [
    {
     "name": "stdout",
     "output_type": "stream",
     "text": [
      "34\n"
     ]
    }
   ],
   "source": [
    "def change_int(a, b):\n",
    "    a = int(a)\n",
    "    b = int(b)\n",
    "\n",
    "def change_float(a, b):\n",
    "    a = float(a)\n",
    "    b = float(b)\n",
    "\n",
    "a = input(\"첫 번째 숫자를 입력하세요: \")\n",
    "b = input(\"두 번째 숫자를 입력하세요: \")\n",
    "try:\n",
    "    change_int(a, b)\n",
    "    change_float(a, b)    \n",
    "except Exception:\n",
    "    change_int(a, b)\n",
    "    change_float(a, b)   \n",
    "print(a+b)"
   ]
  },
  {
   "cell_type": "code",
   "execution_count": 189,
   "metadata": {},
   "outputs": [
    {
     "name": "stdout",
     "output_type": "stream",
     "text": [
      "두 숫자의 합은 45입니다.\n"
     ]
    }
   ],
   "source": [
    "\"\"\" 1. 원본 복사 / 주석 (날짜, 작업자, 사유)\n",
    "a = int(input(\"첫 번째 숫자를 입력하세요: \"))\n",
    "b = int(input(\"두 번째 숫자를 입력하세요: \"))\n",
    "\"\"\"\n",
    "\"\"\"\n",
    "def num_input(order):\n",
    "    sep_char = \" \"\n",
    "    key_input = input(order + sep_char + \" 숫자를 입력하세요: \")\n",
    "    key_strip = key_input.strip()\n",
    "    key_replace = key_strip.replace(\",\", \"\")\n",
    "    return key_replace\n",
    "\"\"\"\n",
    "\n",
    "class KeyInput:\n",
    "    param_input = \"순서표시\"\n",
    "\n",
    "    def __init__(self, order):\n",
    "        self.param_input = order\n",
    "\n",
    "    # class안에 함수 선언시 반드시 self\n",
    "    def num_input(self):\n",
    "        sep_char = \" \"\n",
    "        last_str = \"숫자를 입력하세요: \"\n",
    "        key_input = input(self.param_input + sep_char + last_str)\n",
    "        key_strip = key_input.strip()\n",
    "        key_replace = key_strip.replace(\",\", \"\")\n",
    "        return key_replace\n",
    "\n",
    "#a = int(input(\"첫 번째 숫자를 입력하세요: \")) # 2. 기능 분리\n",
    "try:\n",
    "    #a_input = input(\"첫 번째 숫자를 입력하세요: \") # 1\n",
    "    #param_input_a = \"첫 번째\"                      # 2    \n",
    "    #a_input = num_input(param_input_a)             # 3\n",
    "    key_a = KeyInput(\"첫 번째\")\n",
    "    a_input = key_a.num_input()\n",
    "    a = int(a_input)\n",
    "except:\n",
    "    #print(\"a 입력/변환 에러\")\n",
    "    a = float(a_input)\n",
    "    #raise    \n",
    "#b = int(input(\"두 번째 숫자를 입력하세요: \")) # 2. 기능 분리\n",
    "try:\n",
    "    #b_input = input(\"두 번째 숫자를 입력하세요: \")\n",
    "    #aram_input_b = \"두 번째\"\n",
    "    #_input = num_input(param_input_b)\n",
    "    key_b = KeyInput(\"두 번째\")\n",
    "    b_input = key_b.num_input()\n",
    "    b = int(b_input)\n",
    "except:\n",
    "    #print(\"b 입력/변환 에러\")\n",
    "    b = float(b_input)\n",
    "    #raise\n",
    "\n",
    "print(f\"두 숫자의 합은 {a + b}입니다.\")"
   ]
  },
  {
   "cell_type": "code",
   "execution_count": 218,
   "metadata": {},
   "outputs": [
    {
     "name": "stdout",
     "output_type": "stream",
     "text": [
      "3\n"
     ]
    }
   ],
   "source": [
    "a = input(\"첫 번째 숫자를 입력하세요: \")\n",
    "b = input(\"두 번째 숫자를 입력하세요: \")\n",
    "try:\n",
    "    a = int(a)\n",
    "    b = int(b)\n",
    "except Exception:\n",
    "    a = float(a)\n",
    "    b = float(b)\n",
    "print(a+b)"
   ]
  },
  {
   "cell_type": "code",
   "execution_count": 227,
   "metadata": {},
   "outputs": [
    {
     "name": "stdout",
     "output_type": "stream",
     "text": [
      "<class 'dict'>\n",
      "<class 'str'>\n",
      "<class 'dict'>\n",
      "{\n",
      "    \"name\": \"Alice\",\n",
      "    \"25\": 10\n",
      "}\n"
     ]
    }
   ],
   "source": [
    "import json\n",
    "data = { \"name\": \"Alice\", 25: 10 }\n",
    "print(type(data))\n",
    "data_json = json.dumps(data, indent=4)\n",
    "conv_json = json.loads(data_json)\n",
    "print(type(data_json))\n",
    "print(type(conv_json))\n",
    "print(json.dumps(data, indent=4))"
   ]
  },
  {
   "cell_type": "code",
   "execution_count": null,
   "metadata": {},
   "outputs": [],
   "source": []
  }
 ],
 "metadata": {
  "kernelspec": {
   "display_name": "test",
   "language": "python",
   "name": "python3"
  },
  "language_info": {
   "codemirror_mode": {
    "name": "ipython",
    "version": 3
   },
   "file_extension": ".py",
   "mimetype": "text/x-python",
   "name": "python",
   "nbconvert_exporter": "python",
   "pygments_lexer": "ipython3",
   "version": "3.9.21"
  }
 },
 "nbformat": 4,
 "nbformat_minor": 2
}
