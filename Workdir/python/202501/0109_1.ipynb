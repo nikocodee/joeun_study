{
 "cells": [
  {
   "cell_type": "code",
   "execution_count": 12,
   "metadata": {},
   "outputs": [
    {
     "name": "stdout",
     "output_type": "stream",
     "text": [
      "Error: Cannot divide by zero.\n"
     ]
    }
   ],
   "source": [
    "try:\n",
    "    num = int(input(\"Enter a number: \"))\n",
    "    result = 10 / num\n",
    "except ValueError:\n",
    "    print(\"Error: Invalid input. Please enter a number.\")\n",
    "except ZeroDivisionError:\n",
    "    print(\"Error: Cannot divide by zero.\")\n",
    "except Exception as e:\n",
    "    print(f\"Unexpected error: {e}\")"
   ]
  },
  {
   "cell_type": "code",
   "execution_count": 8,
   "metadata": {},
   "outputs": [
    {
     "name": "stdout",
     "output_type": "stream",
     "text": [
      "Unexpected error: division by zero\n"
     ]
    }
   ],
   "source": [
    "try:\n",
    "    num = int(input(\"Enter a number: \"))\n",
    "    result = 10 / num\n",
    "except Exception as e:\n",
    "    print(f\"Unexpected error: {e}\")    \n",
    "except ValueError:\n",
    "    print(\"Error: Invalid input. Please enter a number.\")\n",
    "except ZeroDivisionError:\n",
    "    print(\"Error: Cannot divide by zero.\")\n"
   ]
  },
  {
   "cell_type": "code",
   "execution_count": 19,
   "metadata": {},
   "outputs": [
    {
     "ename": "SyntaxError",
     "evalue": "positional argument follows keyword argument (2565045390.py, line 4)",
     "output_type": "error",
     "traceback": [
      "\u001b[1;36m  Cell \u001b[1;32mIn[19], line 4\u001b[1;36m\u001b[0m\n\u001b[1;33m    greet(age = 25, \"Alice\")\u001b[0m\n\u001b[1;37m                           ^\u001b[0m\n\u001b[1;31mSyntaxError\u001b[0m\u001b[1;31m:\u001b[0m positional argument follows keyword argument\n"
     ]
    }
   ],
   "source": [
    "def greet(name, age):\n",
    "    print(f\"Hello, {name}! You are {age} years old.\")\n",
    "\n",
    "greet(age = 25, \"Alice\")"
   ]
  },
  {
   "cell_type": "code",
   "execution_count": 20,
   "metadata": {},
   "outputs": [
    {
     "ename": "SyntaxError",
     "evalue": "non-default argument follows default argument (868897132.py, line 1)",
     "output_type": "error",
     "traceback": [
      "\u001b[1;36m  Cell \u001b[1;32mIn[20], line 1\u001b[1;36m\u001b[0m\n\u001b[1;33m    def greet(name, name1, age1=1, age, year1):\u001b[0m\n\u001b[1;37m                                        ^\u001b[0m\n\u001b[1;31mSyntaxError\u001b[0m\u001b[1;31m:\u001b[0m non-default argument follows default argument\n"
     ]
    }
   ],
   "source": [
    "def greet(name, name1, age1=1, age, year1):\n",
    "    print(f\"Hello, {name}! You are {age} years old.\")\n",
    "\n",
    "greet(\"Alice\", \"test\", age = 25)"
   ]
  },
  {
   "cell_type": "code",
   "execution_count": 44,
   "metadata": {},
   "outputs": [
    {
     "name": "stdout",
     "output_type": "stream",
     "text": [
      "Hello, Mary 홍길동! You are 25 years old.\n"
     ]
    }
   ],
   "source": [
    "def greet(*vari, **year1):\n",
    "    print(f\"Hello, {vari[0]} {year1['name1']}! You are {year1['age']} years old.\")\n",
    "\n",
    "#greet(['Mary', 'Tom'], {\"name1\":\"홍길동\", \"age\":25})\n",
    "greet('Mary', 'Tom', name1=\"홍길동\", age=25)"
   ]
  },
  {
   "cell_type": "code",
   "execution_count": 37,
   "metadata": {},
   "outputs": [
    {
     "name": "stdout",
     "output_type": "stream",
     "text": [
      "New York\n"
     ]
    }
   ],
   "source": [
    "def print_details(**args):\n",
    "    #for key, value in kwargs.items():\n",
    "    #    print(f\"{key}: {value}\")\n",
    "    print(args['city'])\n",
    "\n",
    "print_details(name=\"Alice\", age=25, city=\"New York\")"
   ]
  },
  {
   "cell_type": "code",
   "execution_count": 110,
   "metadata": {},
   "outputs": [
    {
     "name": "stdout",
     "output_type": "stream",
     "text": [
      "15\n",
      "5\n",
      "50\n",
      "2.0\n",
      "Division by zero!\n"
     ]
    }
   ],
   "source": [
    "def calculator(a, b, operation=\"add\"):\n",
    "    if operation == \"add\":\n",
    "        return a + b\n",
    "    elif operation == \"subtract\":\n",
    "        return a - b\n",
    "    elif operation == \"multiply\":\n",
    "        return a * b\n",
    "    elif operation == \"divide\":\n",
    "        return a / b if b != 0 else \"Division by zero!\"\n",
    "    else:\n",
    "        return \"Invalid operation!\"\n",
    "\n",
    "print(calculator(10, 5))              # 기본값: 덧셈\n",
    "print(calculator(10, 5, \"subtract\"))  # 뺄셈\n",
    "print(calculator(10, 5, \"multiply\"))  # 곱셈\n",
    "print(calculator(10, 5, \"divide\"))    # 나눗셈\n",
    "print(calculator(10, 0, \"divide\"))    # Division by zero!"
   ]
  },
  {
   "cell_type": "code",
   "execution_count": 48,
   "metadata": {},
   "outputs": [
    {
     "name": "stdout",
     "output_type": "stream",
     "text": [
      "Sum: 9\n"
     ]
    }
   ],
   "source": [
    "def sum_numbers(num, *args):\n",
    "    total = sum(args)\n",
    "    print(f\"Sum: {total}\")\n",
    "\n",
    "sum_numbers(1, 2, 3, 4)  # Sum: 10"
   ]
  },
  {
   "cell_type": "code",
   "execution_count": 49,
   "metadata": {},
   "outputs": [
    {
     "name": "stdout",
     "output_type": "stream",
     "text": [
      "Sum: 10\n"
     ]
    }
   ],
   "source": [
    "def sum_numbers(*args):\n",
    "    total = sum(args)\n",
    "    print(f\"Sum: {total}\")\n",
    "\n",
    "sum_numbers(1, 2, 3, 4)  # Sum: 10"
   ]
  },
  {
   "cell_type": "code",
   "execution_count": 51,
   "metadata": {},
   "outputs": [
    {
     "name": "stdout",
     "output_type": "stream",
     "text": [
      "Sum: 10 : 홍길동\n"
     ]
    }
   ],
   "source": [
    "def sum_numbers(*args, **key):\n",
    "    total = sum(args)\n",
    "    print(f\"Sum: {total} : {key['name']}\")\n",
    "\n",
    "sum_numbers(1, 2, 3, 4, age = 25, name = '홍길동')"
   ]
  },
  {
   "cell_type": "code",
   "execution_count": 52,
   "metadata": {},
   "outputs": [
    {
     "name": "stdout",
     "output_type": "stream",
     "text": [
      "Sum: 7 : 홍길동\n"
     ]
    }
   ],
   "source": [
    "def sum_numbers(no, no1, *args, **key):\n",
    "    total = sum(args)\n",
    "    print(f\"Sum: {total} : {key['name']}\")\n",
    "\n",
    "sum_numbers(1, 2, 3, 4, age = 25, name = '홍길동')"
   ]
  },
  {
   "cell_type": "code",
   "execution_count": 55,
   "metadata": {},
   "outputs": [
    {
     "name": "stdout",
     "output_type": "stream",
     "text": [
      "Local x: 5\n",
      "Global x: 10\n",
      "Modified Global x: 15\n",
      "Global x: 15\n"
     ]
    }
   ],
   "source": [
    "x = 10  # 전역 변수\n",
    "\n",
    "def modify_local():\n",
    "    x = 5  # 지역 변수\n",
    "    print(f\"Local x: {x}\") # Local x: 5 가까운 변수 먼저 찍음\n",
    "\n",
    "def modify_global():\n",
    "    global x\n",
    "    x = 15  # 전역 변수 수정\n",
    "    print(f\"Modified Global x: {x}\")\n",
    "\n",
    "modify_local()    # Local x: 5\n",
    "print(f\"Global x: {x}\")  # Global x: 10\n",
    "\n",
    "modify_global()   # Modified Global x: 15\n",
    "print(f\"Global x: {x}\")  # Global x: 15"
   ]
  },
  {
   "cell_type": "code",
   "execution_count": 57,
   "metadata": {},
   "outputs": [
    {
     "name": "stdout",
     "output_type": "stream",
     "text": [
      "Outer x: 10\n"
     ]
    }
   ],
   "source": [
    "def outer_function():\n",
    "    x = 10\n",
    "\n",
    "    def inner_function():\n",
    "        #nonlocal x\n",
    "        x = 20\n",
    "\n",
    "    inner_function()\n",
    "    print(f\"Outer x: {x}\")\n",
    "\n",
    "outer_function()  # Outer x: 20"
   ]
  },
  {
   "cell_type": "code",
   "execution_count": 61,
   "metadata": {},
   "outputs": [
    {
     "name": "stdout",
     "output_type": "stream",
     "text": [
      "30\n"
     ]
    }
   ],
   "source": [
    "add = lambda x , y : x + y\n",
    "print(add(10, 20))"
   ]
  },
  {
   "cell_type": "code",
   "execution_count": 64,
   "metadata": {},
   "outputs": [
    {
     "name": "stdout",
     "output_type": "stream",
     "text": [
      "[(3, 1), (1, 2), (0, 5)]\n"
     ]
    }
   ],
   "source": [
    "points = [(1, 2), (3, 1), (0, 5)]\n",
    "\n",
    "# 두 번째 요소 기준으로 정렬\n",
    "points.sort(key=lambda point: point[1])\n",
    "print(points)  # [(3, 1), (1, 2), (0, 5)]"
   ]
  },
  {
   "cell_type": "code",
   "execution_count": 80,
   "metadata": {},
   "outputs": [
    {
     "name": "stdout",
     "output_type": "stream",
     "text": [
      "[(-1, 4), (0, 5), (1, 2), (3, 1)]\n"
     ]
    }
   ],
   "source": [
    "points = [(1, 2), (3, 1), (0, 5), (-1, 4)]\n",
    "\n",
    "points.sort(key=lambda point: point)\n",
    "print(points)\n"
   ]
  },
  {
   "cell_type": "code",
   "execution_count": 82,
   "metadata": {},
   "outputs": [
    {
     "name": "stdout",
     "output_type": "stream",
     "text": [
      "[(1, 1), (1, 2), (-1, 4), (0, 5)]\n"
     ]
    }
   ],
   "source": [
    "points = [(1, 2), (1, 1), (0, 5), (-1, 4)]\n",
    "\n",
    "points.sort(key=lambda point: point[1])\n",
    "print(points)\n"
   ]
  },
  {
   "cell_type": "code",
   "execution_count": 88,
   "metadata": {},
   "outputs": [
    {
     "name": "stdout",
     "output_type": "stream",
     "text": [
      "[(0, 5), (1, 2), (1, 1), (-1, 4)]\n"
     ]
    }
   ],
   "source": [
    "points = [(1, 2), (1, 1), (0, 5), (-1, 4)]\n",
    "\n",
    "points.sort(key=lambda point: abs(point[0]))\n",
    "print(points)\n"
   ]
  },
  {
   "cell_type": "code",
   "execution_count": 109,
   "metadata": {},
   "outputs": [
    {
     "name": "stdout",
     "output_type": "stream",
     "text": [
      "[(0, 'aa', 5), (0, 'bd', 2), (1, 'aa', 4), (1, 'ac', 1)]\n"
     ]
    }
   ],
   "source": [
    "points = [(0, 'bd', 2), (1, 'ac', 1), (0, 'aa', 5), (1, 'aa', 4)]\n",
    "\n",
    "points.sort(key=lambda point: (point[0], point[1]))\n",
    "print(points)\n"
   ]
  },
  {
   "cell_type": "code",
   "execution_count": null,
   "metadata": {},
   "outputs": [],
   "source": []
  }
 ],
 "metadata": {
  "kernelspec": {
   "display_name": "test",
   "language": "python",
   "name": "python3"
  },
  "language_info": {
   "codemirror_mode": {
    "name": "ipython",
    "version": 3
   },
   "file_extension": ".py",
   "mimetype": "text/x-python",
   "name": "python",
   "nbconvert_exporter": "python",
   "pygments_lexer": "ipython3",
   "version": "3.9.21"
  }
 },
 "nbformat": 4,
 "nbformat_minor": 2
}
